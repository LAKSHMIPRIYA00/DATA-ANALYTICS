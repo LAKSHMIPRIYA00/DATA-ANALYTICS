{
 "cells": [
  {
   "cell_type": "markdown",
   "metadata": {},
   "source": [
    "conditions  \n",
    "-if  \n",
    "-if else     \n",
    "-if elif else  \n",
    "-match case (if single value haii )  "
   ]
  },
  {
   "cell_type": "code",
   "execution_count": 1,
   "metadata": {},
   "outputs": [],
   "source": [
    "x = 10\n",
    "y = 3"
   ]
  },
  {
   "cell_type": "code",
   "execution_count": 4,
   "metadata": {},
   "outputs": [
    {
     "name": "stdout",
     "output_type": "stream",
     "text": [
      "x is greater than y\n",
      "that is true\n",
      "executed\n"
     ]
    }
   ],
   "source": [
    "if x>y:\n",
    "    print(\"x is greater than y\")\n",
    "    print('that is true')\n",
    "print('executed')    "
   ]
  },
  {
   "cell_type": "code",
   "execution_count": 7,
   "metadata": {},
   "outputs": [],
   "source": [
    "if x == y:\n",
    "    print('wow')\n",
    "    #will  not print any result coz x is nor equals to y"
   ]
  },
  {
   "cell_type": "code",
   "execution_count": 6,
   "metadata": {},
   "outputs": [
    {
     "name": "stdout",
     "output_type": "stream",
     "text": [
      "x is greater than y and x is greater than 8\n"
     ]
    }
   ],
   "source": [
    "if x >y and x>8:\n",
    "    print('x is greater than y and x is greater than 8')"
   ]
  },
  {
   "cell_type": "markdown",
   "metadata": {},
   "source": [
    "True values  \n",
    "- True  \n",
    "- Non zero number  \n",
    "-Non empty strings \n",
    "\n",
    "\n",
    "False values  \n",
    "- False   \n",
    "- 0  \n",
    "- 0.0  \n",
    "- None  \n",
    "- empty strings  "
   ]
  },
  {
   "cell_type": "code",
   "execution_count": 8,
   "metadata": {},
   "outputs": [
    {
     "name": "stdout",
     "output_type": "stream",
     "text": [
      "you entered lakshmi\n"
     ]
    }
   ],
   "source": [
    "name = input('Enter a name')\n",
    "if name:\n",
    "    print(f'you entered {name}')\n",
    "else:\n",
    "    print('you did not entered a name')    "
   ]
  },
  {
   "cell_type": "code",
   "execution_count": 9,
   "metadata": {},
   "outputs": [
    {
     "name": "stdout",
     "output_type": "stream",
     "text": [
      "even\n"
     ]
    }
   ],
   "source": [
    "Number=int(input('enter a number'))\n",
    "if x%2==0:\n",
    "    print('even')\n",
    "else:\n",
    "    print('odd')    \n",
    "           "
   ]
  },
  {
   "cell_type": "code",
   "execution_count": 11,
   "metadata": {},
   "outputs": [
    {
     "name": "stdout",
     "output_type": "stream",
     "text": [
      "invalid username\n"
     ]
    }
   ],
   "source": [
    "username = input('enter username')\n",
    "password= input('enter password')\n",
    "if username == 'admin':\n",
    "    if password == '123admin':\n",
    "        print('welcome admin')\n",
    "    else:    \n",
    "        print('invalid password')\n",
    "else:\n",
    "    print('invalid username')            "
   ]
  },
  {
   "cell_type": "code",
   "execution_count": 13,
   "metadata": {},
   "outputs": [
    {
     "name": "stdout",
     "output_type": "stream",
     "text": [
      "FUNDAYYYYYYYYYY\n"
     ]
    }
   ],
   "source": [
    "day = input('enter day')\n",
    "if day == 'monday':\n",
    "    print('monday')\n",
    "elif day == 'tuesday':\n",
    "    print('tuesday')\n",
    "elif day =='wednesday':\n",
    "    print('wednesday')\n",
    "else:\n",
    "    print('FUNDAYYYYYYYYYY')        "
   ]
  },
  {
   "cell_type": "code",
   "execution_count": 14,
   "metadata": {},
   "outputs": [
    {
     "ename": "SyntaxError",
     "evalue": "invalid syntax (950327090.py, line 2)",
     "output_type": "error",
     "traceback": [
      "\u001b[1;36m  Cell \u001b[1;32mIn[14], line 2\u001b[1;36m\u001b[0m\n\u001b[1;33m    if x % != 0:\u001b[0m\n\u001b[1;37m           ^\u001b[0m\n\u001b[1;31mSyntaxError\u001b[0m\u001b[1;31m:\u001b[0m invalid syntax\n"
     ]
    }
   ],
   "source": [
    "Number = int(input('enter a number'))\n",
    "if x % != 0:\n",
    "    print('odd')\n",
    "else:\n",
    "    print('odd')    \n",
    "\n",
    "                "
   ]
  },
  {
   "cell_type": "code",
   "execution_count": 16,
   "metadata": {},
   "outputs": [
    {
     "name": "stdout",
     "output_type": "stream",
     "text": [
      "HOLIDAY\n"
     ]
    }
   ],
   "source": [
    "day = input('enter day')\n",
    "match day:\n",
    "    case 'monday':\n",
    "        print('Time to work')\n",
    "    case 'tuesday':\n",
    "        print('Time to work')\n",
    "    case 'wednesday'|'thursday':\n",
    "        print('Time to work')\n",
    "    case 'friday':\n",
    "        print('WORKKK')\n",
    "    case 'saturday'|'sunday':\n",
    "        print('HOLIDAY')                "
   ]
  },
  {
   "cell_type": "code",
   "execution_count": 17,
   "metadata": {},
   "outputs": [
    {
     "name": "stdout",
     "output_type": "stream",
     "text": [
      "scrpio\n"
     ]
    }
   ],
   "source": [
    "month =input('enter month')\n",
    "match month:\n",
    "    case 'Jan':\n",
    "        print('Aries')\n",
    "    case 'Feb':\n",
    "        print('leo')\n",
    "    case 'march':\n",
    "        print('scrpio')\n",
    "    case 'april':\n",
    "        print('capricon')\n",
    "    case 'may':\n",
    "        print('picises')\n",
    "    case 'june'|'july'|'august'|'sep'|'nov'|'dec':\n",
    "        print('not valid')          "
   ]
  },
  {
   "cell_type": "code",
   "execution_count": null,
   "metadata": {},
   "outputs": [],
   "source": []
  }
 ],
 "metadata": {
  "kernelspec": {
   "display_name": "base",
   "language": "python",
   "name": "python3"
  },
  "language_info": {
   "codemirror_mode": {
    "name": "ipython",
    "version": 3
   },
   "file_extension": ".py",
   "mimetype": "text/x-python",
   "name": "python",
   "nbconvert_exporter": "python",
   "pygments_lexer": "ipython3",
   "version": "3.10.10"
  },
  "orig_nbformat": 4
 },
 "nbformat": 4,
 "nbformat_minor": 2
}
