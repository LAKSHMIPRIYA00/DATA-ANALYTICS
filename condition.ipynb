{
 "cells": [
  {
   "cell_type": "markdown",
   "metadata": {},
   "source": [
    "conditions  \n",
    "-if  \n",
    "-if else     \n",
    "-if elif else  \n",
    "-match case (if single value haii )  "
   ]
  },
  {
   "cell_type": "code",
   "execution_count": 12,
   "metadata": {},
   "outputs": [],
   "source": [
    "x = 10\n",
    "y = 3"
   ]
  },
  {
   "cell_type": "code",
   "execution_count": 3,
   "metadata": {},
   "outputs": [
    {
     "name": "stdout",
     "output_type": "stream",
     "text": [
      "x is greater than y\n",
      "that is true\n",
      "executed\n"
     ]
    }
   ],
   "source": [
    "if x>y:\n",
    "    print(\"x is greater than y\")\n",
    "    print('that is true')\n",
    "print('executed')    "
   ]
  },
  {
   "cell_type": "code",
   "execution_count": 4,
   "metadata": {},
   "outputs": [],
   "source": [
    "if x == y:\n",
    "    print('wow')\n",
    "    #will  not print any result coz x is nor equals to y"
   ]
  },
  {
   "cell_type": "code",
   "execution_count": 5,
   "metadata": {},
   "outputs": [
    {
     "name": "stdout",
     "output_type": "stream",
     "text": [
      "x is greater than y and x is greater than 8\n"
     ]
    }
   ],
   "source": [
    "if x >y and x>8:\n",
    "    print('x is greater than y and x is greater than 8')"
   ]
  },
  {
   "cell_type": "markdown",
   "metadata": {},
   "source": [
    "True values  \n",
    "- True  \n",
    "- Non zero number  \n",
    "-Non empty strings \n",
    "\n",
    "\n",
    "False values  \n",
    "- False   \n",
    "- 0  \n",
    "- 0.0  \n",
    "- None  \n",
    "- empty strings  "
   ]
  },
  {
   "cell_type": "code",
   "execution_count": 6,
   "metadata": {},
   "outputs": [
    {
     "name": "stdout",
     "output_type": "stream",
     "text": [
      "you entered lakshmi\n"
     ]
    }
   ],
   "source": [
    "name = input('Enter a name')\n",
    "if name:\n",
    "    print(f'you entered {name}')\n",
    "else:\n",
    "    print('you did not entered a name')    "
   ]
  },
  {
   "cell_type": "code",
   "execution_count": 15,
   "metadata": {},
   "outputs": [
    {
     "name": "stdout",
     "output_type": "stream",
     "text": [
      "even\n"
     ]
    }
   ],
   "source": [
    "Number=int(input('enter a number'))\n",
    "if x%2==0:\n",
    "    print('even')\n",
    "else:\n",
    "    print('odd')    \n",
    "           "
   ]
  },
  {
   "cell_type": "code",
   "execution_count": 8,
   "metadata": {},
   "outputs": [
    {
     "name": "stdout",
     "output_type": "stream",
     "text": [
      "invalid username\n"
     ]
    }
   ],
   "source": [
    "username = input('enter username')\n",
    "password= input('enter password')\n",
    "if username == 'admin':\n",
    "    if password == '123admin':\n",
    "        print('welcome admin')\n",
    "    else:    \n",
    "        print('invalid password')\n",
    "else:\n",
    "    print('invalid username')            "
   ]
  },
  {
   "cell_type": "code",
   "execution_count": 9,
   "metadata": {},
   "outputs": [
    {
     "name": "stdout",
     "output_type": "stream",
     "text": [
      "FUNDAYYYYYYYYYY\n"
     ]
    }
   ],
   "source": [
    "day = input('enter day')\n",
    "if day == 'monday':\n",
    "    print('monday')\n",
    "elif day == 'tuesday':\n",
    "    print('tuesday')\n",
    "elif day =='wednesday':\n",
    "    print('wednesday')\n",
    "else:\n",
    "    print('FUNDAYYYYYYYYYY')        "
   ]
  },
  {
   "cell_type": "code",
   "execution_count": 14,
   "metadata": {},
   "outputs": [
    {
     "name": "stdout",
     "output_type": "stream",
     "text": [
      "odd\n"
     ]
    }
   ],
   "source": [
    "Number = int(input('enter a number'))\n",
    "if x%2!=0:\n",
    "    print('even')\n",
    "else:\n",
    "    print('odd')    \n",
    "\n",
    "                "
   ]
  },
  {
   "cell_type": "code",
   "execution_count": null,
   "metadata": {},
   "outputs": [
    {
     "name": "stdout",
     "output_type": "stream",
     "text": [
      "HOLIDAY\n"
     ]
    }
   ],
   "source": [
    "day = input('enter day')\n",
    "match day:\n",
    "    case 'monday':\n",
    "        print('Time to work')\n",
    "    case 'tuesday':\n",
    "        print('Time to work')\n",
    "    case 'wednesday'|'thursday':\n",
    "        print('Time to work')\n",
    "    case 'friday':\n",
    "        print('WORKKK')\n",
    "    case 'saturday'|'sunday':\n",
    "        print('HOLIDAY')                "
   ]
  },
  {
   "cell_type": "code",
   "execution_count": null,
   "metadata": {},
   "outputs": [
    {
     "name": "stdout",
     "output_type": "stream",
     "text": [
      "scrpio\n"
     ]
    }
   ],
   "source": [
    "month =input('enter month')\n",
    "match month:\n",
    "    case 'Jan':\n",
    "        print('Aries')\n",
    "    case 'Feb':\n",
    "        print('leo')\n",
    "    case 'march':\n",
    "        print('scrpio')\n",
    "    case 'april':\n",
    "        print('capricon')\n",
    "    case 'may':\n",
    "        print('picises')\n",
    "    case 'june'|'july'|'august'|'sep'|'nov'|'dec':\n",
    "        print('not valid')          "
   ]
  },
  {
   "cell_type": "code",
   "execution_count": 2,
   "metadata": {},
   "outputs": [
    {
     "name": "stdout",
     "output_type": "stream",
     "text": [
      "x is greater\n"
     ]
    }
   ],
   "source": [
    "x=3\n",
    "if x >= 0:\n",
    "    print('x is greater')"
   ]
  },
  {
   "cell_type": "code",
   "execution_count": 3,
   "metadata": {},
   "outputs": [
    {
     "name": "stdout",
     "output_type": "stream",
     "text": [
      "executed\n"
     ]
    }
   ],
   "source": [
    "f'x'\n",
    "if x >=0:\n",
    "    print('executed')\n"
   ]
  },
  {
   "cell_type": "code",
   "execution_count": 8,
   "metadata": {},
   "outputs": [
    {
     "name": "stdout",
     "output_type": "stream",
     "text": [
      "not executed\n"
     ]
    }
   ],
   "source": [
    "f'x' \n",
    "y=8\n",
    "if x > y:\n",
    "    print(\"wow\")\n",
    "else:\n",
    "    print('not executed')    \n"
   ]
  },
  {
   "cell_type": "code",
   "execution_count": 16,
   "metadata": {},
   "outputs": [
    {
     "name": "stdout",
     "output_type": "stream",
     "text": [
      "work\n"
     ]
    }
   ],
   "source": [
    "day=input('enter a day')\n",
    "if day == 'Monday':\n",
    "    print('work')\n",
    "elif  day== 'Tuesday':\n",
    "    print('work')    \n",
    "\n"
   ]
  },
  {
   "cell_type": "code",
   "execution_count": 18,
   "metadata": {},
   "outputs": [
    {
     "name": "stdout",
     "output_type": "stream",
     "text": [
      "work\n"
     ]
    }
   ],
   "source": [
    "day=input('enter a day')\n",
    "match day:\n",
    "    case'monday':\n",
    "        print('work')\n",
    "    case 'tuesday':\n",
    "        print('work')    "
   ]
  },
  {
   "cell_type": "code",
   "execution_count": 28,
   "metadata": {},
   "outputs": [
    {
     "name": "stdout",
     "output_type": "stream",
     "text": [
      "not valid\n"
     ]
    }
   ],
   "source": [
    "if x%2==0:\n",
    "    print('even')\n",
    "else:\n",
    "    print('not valid')    \n"
   ]
  },
  {
   "cell_type": "code",
   "execution_count": null,
   "metadata": {},
   "outputs": [],
   "source": []
  }
 ],
 "metadata": {
  "kernelspec": {
   "display_name": "base",
   "language": "python",
   "name": "python3"
  },
  "language_info": {
   "codemirror_mode": {
    "name": "ipython",
    "version": 3
   },
   "file_extension": ".py",
   "mimetype": "text/x-python",
   "name": "python",
   "nbconvert_exporter": "python",
   "pygments_lexer": "ipython3",
   "version": "3.10.10"
  },
  "orig_nbformat": 4
 },
 "nbformat": 4,
 "nbformat_minor": 2
}
