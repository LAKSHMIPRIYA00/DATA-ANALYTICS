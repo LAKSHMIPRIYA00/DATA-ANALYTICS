{
 "cells": [
  {
   "cell_type": "markdown",
   "metadata": {},
   "source": [
    "-creation  \n",
    "-indexing  and  slicing  \n",
    "-methods  "
   ]
  },
  {
   "cell_type": "code",
   "execution_count": 3,
   "metadata": {},
   "outputs": [],
   "source": [
    "s=\"heloow\"\n",
    "s0='hii'\n",
    "msg='''this is a message\n",
    "with multiple lines'''    #for multiple lines in python we have to use triple coute"
   ]
  },
  {
   "cell_type": "code",
   "execution_count": 12,
   "metadata": {},
   "outputs": [
    {
     "name": "stdout",
     "output_type": "stream",
     "text": [
      "hahahahahahahahahaha\n",
      "paa💕paa💕paa💕paa💕paa💕paa💕paa💕paa💕paa💕paa💕\n",
      "maa❤️maa❤️maa❤️maa❤️maa❤️maa❤️maa❤️maa❤️maa❤️maa❤️\n"
     ]
    }
   ],
   "source": [
    "w='ha'*10\n",
    "print(w)\n",
    "l='paa💕'*10\n",
    "print(l)\n",
    "s='maa❤️'*10\n",
    "print(s)\n"
   ]
  },
  {
   "cell_type": "code",
   "execution_count": 10,
   "metadata": {},
   "outputs": [
    {
     "name": "stdout",
     "output_type": "stream",
     "text": [
      "10 <class 'str'>\n"
     ]
    }
   ],
   "source": [
    "a=10\n",
    "b=str(a)\n",
    "print(b,type(b))"
   ]
  },
  {
   "cell_type": "code",
   "execution_count": 11,
   "metadata": {},
   "outputs": [
    {
     "name": "stdout",
     "output_type": "stream",
     "text": [
      "from turtle import*\n",
      "speed('fastest')\n",
      "pensize(2)\n",
      "bgcolor('black')\n",
      "pencolor('white')\n",
      "color=['red','blue','pink','green','orange','purple']\n",
      "side=9\n",
      "for i in range(side):\n",
      "    fd(200)\n",
      "    for i in range(side):\n",
      "        fd(100)\n",
      "        lt(360/side)\n",
      "        begin_fill()\n",
      "        fillcolor(color[i%6])\n",
      "        for i in range(side):\n",
      "            fd(50)\n",
      "            lt(360/side)\n",
      "        end_fill()\n",
      "    lt(360/side)\n",
      "\n",
      "hideturtle()\n",
      "mainloop()            \n"
     ]
    }
   ],
   "source": [
    "data=open('t4.py').read()\n",
    "print(data)"
   ]
  },
  {
   "cell_type": "code",
   "execution_count": 14,
   "metadata": {},
   "outputs": [
    {
     "name": "stdout",
     "output_type": "stream",
     "text": [
      "m\n",
      "a\n",
      "a\n",
      "❤\n",
      "️\n",
      "️\n"
     ]
    }
   ],
   "source": [
    "print(s[0])#first char\n",
    "print(s[1])\n",
    "print(s[2])\n",
    "print(s[3])\n",
    "print(s[4])\n",
    "print(s[-1])#last char"
   ]
  },
  {
   "cell_type": "code",
   "execution_count": 17,
   "metadata": {},
   "outputs": [],
   "source": [
    "name='william shakespeare'"
   ]
  },
  {
   "cell_type": "code",
   "execution_count": 28,
   "metadata": {},
   "outputs": [
    {
     "name": "stdout",
     "output_type": "stream",
     "text": [
      "10\n",
      "will\n",
      "shakespeare\n",
      "william shakespeare\n",
      "eraepsekahs mailliw\n",
      "wlimsaepae\n"
     ]
    }
   ],
   "source": [
    "name[8:-6]\n",
    "print(a)\n",
    "b=name[:4]#starting \n",
    "print(b)\n",
    "c=name[8:]#last index can be omitted if slicing\n",
    "print(c)\n",
    "d=name[:]\n",
    "print(d)\n",
    "e=name[::-1]#reverse\n",
    "print(e)\n",
    "f=name[::2]\n",
    "print(f)#step"
   ]
  },
  {
   "cell_type": "code",
   "execution_count": 25,
   "metadata": {},
   "outputs": [
    {
     "data": {
      "text/plain": [
       "'william shake'"
      ]
     },
     "execution_count": 25,
     "metadata": {},
     "output_type": "execute_result"
    }
   ],
   "source": [
    "name[0:13]"
   ]
  },
  {
   "cell_type": "code",
   "execution_count": 33,
   "metadata": {},
   "outputs": [
    {
     "data": {
      "text/plain": [
       "'pear'"
      ]
     },
     "execution_count": 33,
     "metadata": {},
     "output_type": "execute_result"
    }
   ],
   "source": [
    "name[14:18]"
   ]
  },
  {
   "cell_type": "code",
   "execution_count": 34,
   "metadata": {},
   "outputs": [
    {
     "data": {
      "text/plain": [
       "19"
      ]
     },
     "execution_count": 34,
     "metadata": {},
     "output_type": "execute_result"
    }
   ],
   "source": [
    "len(name)"
   ]
  },
  {
   "cell_type": "markdown",
   "metadata": {},
   "source": [
    "methods  \n",
    "- utility  method  \n",
    "-  count  \n",
    "-  find  \n",
    "  replace  \n",
    "-  join  \n",
    "-  strip   \n",
    "\n",
    "\n",
    "  formating method  \n",
    "  -  capitalize  \n",
    "  -  title  \n",
    "  -  upper  \n",
    "  -  lower  \n",
    "  -  swapcase  \n",
    "  -  casefold  \n",
    "    \n",
    "validation  method  \n",
    "- isalnum  \n",
    "- isalpha  \n",
    "-  isdigit  \n",
    "-  islower  \n",
    "-  isupper  \n",
    "-  istitle  \n",
    "-  isspace      \n"
   ]
  },
  {
   "cell_type": "code",
   "execution_count": 35,
   "metadata": {},
   "outputs": [
    {
     "data": {
      "text/plain": [
       "'WILLIAM SHAKESPEARE'"
      ]
     },
     "execution_count": 35,
     "metadata": {},
     "output_type": "execute_result"
    }
   ],
   "source": [
    "name.upper()"
   ]
  },
  {
   "cell_type": "code",
   "execution_count": 46,
   "metadata": {},
   "outputs": [],
   "source": [
    "msg='''this is a story about a kingdom of \n",
    " south india lead by the hoyasala dynasty kings.'''"
   ]
  },
  {
   "cell_type": "code",
   "execution_count": 47,
   "metadata": {},
   "outputs": [
    {
     "name": "stdout",
     "output_type": "stream",
     "text": [
      "9\n",
      "2\n",
      "1\n"
     ]
    }
   ],
   "source": [
    "print(msg.count('a'))\n",
    "print(msg.count('out'))\n",
    "print(msg.count('the'))\n"
   ]
  },
  {
   "cell_type": "code",
   "execution_count": 48,
   "metadata": {},
   "outputs": [
    {
     "name": "stdout",
     "output_type": "stream",
     "text": [
      "25\n"
     ]
    }
   ],
   "source": [
    "total_vowels =msg.count('a') +msg.count('e')+ msg.count('i')+msg.count('o')+msg.count('u')\n",
    "print(total_vowels)\n"
   ]
  },
  {
   "cell_type": "code",
   "execution_count": 49,
   "metadata": {},
   "outputs": [
    {
     "name": "stdout",
     "output_type": "stream",
     "text": [
      "25\n"
     ]
    }
   ],
   "source": [
    "tvs = 0\n",
    "for c in 'aeiou':\n",
    "    tvs += msg.count(c)\n",
    "print(tvs)    "
   ]
  },
  {
   "cell_type": "code",
   "execution_count": 50,
   "metadata": {},
   "outputs": [
    {
     "name": "stdout",
     "output_type": "stream",
     "text": [
      "a\n",
      "e\n",
      "i\n",
      "o\n",
      "u\n"
     ]
    }
   ],
   "source": [
    "for c in 'aeiou':\n",
    "    print(c)"
   ]
  },
  {
   "cell_type": "code",
   "execution_count": 51,
   "metadata": {},
   "outputs": [
    {
     "data": {
      "text/plain": [
       "'this is a story about a kingdom of \\n south india lead by the hoyasala dynasty kings.'"
      ]
     },
     "execution_count": 51,
     "metadata": {},
     "output_type": "execute_result"
    }
   ],
   "source": [
    "msg"
   ]
  },
  {
   "cell_type": "code",
   "execution_count": 52,
   "metadata": {},
   "outputs": [
    {
     "data": {
      "text/plain": [
       "10"
      ]
     },
     "execution_count": 52,
     "metadata": {},
     "output_type": "execute_result"
    }
   ],
   "source": [
    "msg.find('story')"
   ]
  },
  {
   "cell_type": "code",
   "execution_count": 55,
   "metadata": {},
   "outputs": [
    {
     "data": {
      "text/plain": [
       "38"
      ]
     },
     "execution_count": 55,
     "metadata": {},
     "output_type": "execute_result"
    }
   ],
   "source": [
    "msg.find('out', 19)"
   ]
  },
  {
   "cell_type": "code",
   "execution_count": 56,
   "metadata": {},
   "outputs": [
    {
     "data": {
      "text/plain": [
       "38"
      ]
     },
     "execution_count": 56,
     "metadata": {},
     "output_type": "execute_result"
    }
   ],
   "source": [
    "msg.rfind('out')"
   ]
  },
  {
   "cell_type": "code",
   "execution_count": 58,
   "metadata": {},
   "outputs": [
    {
     "data": {
      "text/plain": [
       "'this is in story inbout in kingdom of \\n south indiin leind by the hoyinsinlin dyninsty kings.'"
      ]
     },
     "execution_count": 58,
     "metadata": {},
     "output_type": "execute_result"
    }
   ],
   "source": [
    "msg.replace('a','in')"
   ]
  },
  {
   "cell_type": "code",
   "execution_count": 60,
   "metadata": {},
   "outputs": [
    {
     "data": {
      "text/plain": [
       "'this is  story bout  kingdom of \\n south indi led by the hoysl dynsty kings.'"
      ]
     },
     "execution_count": 60,
     "metadata": {},
     "output_type": "execute_result"
    }
   ],
   "source": [
    "msg.replace('a', '')#remove all a's by''"
   ]
  },
  {
   "cell_type": "code",
   "execution_count": 67,
   "metadata": {},
   "outputs": [
    {
     "name": "stdout",
     "output_type": "stream",
     "text": [
      "this is  story bout  kingdom of \n",
      " south indi led by the hoysl dynsty kings.this is a story about a kingdom of \n",
      " south india lad by th hoyasala dynasty kings.ths s a story about a kngdom of \n",
      " south nda lead by the hoyasala dynasty kngs.this is a stry abut a kingdm f \n",
      " suth india lead by the hyasala dynasty kings.this is a story abot a kingdom of \n",
      " soth india lead by the hoyasala dynasty kings.\n"
     ]
    }
   ],
   "source": [
    "message=msg.replace('a','')+ msg.replace('e','') +  msg.replace('i','') + msg.replace('o','') + msg.replace('u','')\n",
    "print(message)\n"
   ]
  },
  {
   "cell_type": "code",
   "execution_count": 68,
   "metadata": {},
   "outputs": [
    {
     "name": "stdout",
     "output_type": "stream",
     "text": [
      "this is a story about a kingdom of \n",
      " south india lead by the hoyasala dynasty kings.\n",
      "ths s  stry bt  kngdm f \n",
      " sth nd ld by th hysl dynsty kngs.\n"
     ]
    }
   ],
   "source": [
    "msg_copy = msg\n",
    "for c in 'aeiou':\n",
    "    msg_copy = msg_copy.replace(c,'')\n",
    "print(msg)\n",
    "print(msg_copy)    "
   ]
  },
  {
   "cell_type": "code",
   "execution_count": null,
   "metadata": {},
   "outputs": [],
   "source": []
  }
 ],
 "metadata": {
  "kernelspec": {
   "display_name": "base",
   "language": "python",
   "name": "python3"
  },
  "language_info": {
   "codemirror_mode": {
    "name": "ipython",
    "version": 3
   },
   "file_extension": ".py",
   "mimetype": "text/x-python",
   "name": "python",
   "nbconvert_exporter": "python",
   "pygments_lexer": "ipython3",
   "version": "3.10.10"
  },
  "orig_nbformat": 4
 },
 "nbformat": 4,
 "nbformat_minor": 2
}
