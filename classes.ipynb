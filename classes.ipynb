{
 "cells": [
  {
   "cell_type": "code",
   "execution_count": 2,
   "metadata": {},
   "outputs": [],
   "source": [
    "class Cat:\n",
    "    def __init__(self):\n",
    "        print(\"the class constructor\")"
   ]
  },
  {
   "cell_type": "markdown",
   "metadata": {},
   "source": [
    "Dandar method  "
   ]
  },
  {
   "cell_type": "code",
   "execution_count": 3,
   "metadata": {},
   "outputs": [
    {
     "name": "stdout",
     "output_type": "stream",
     "text": [
      "the class constructor\n",
      "<__main__.Cat object at 0x000002378C84D9C0>\n"
     ]
    }
   ],
   "source": [
    "c1=Cat()\n",
    "print(c1)"
   ]
  },
  {
   "cell_type": "code",
   "execution_count": 7,
   "metadata": {},
   "outputs": [
    {
     "data": {
      "text/plain": [
       "__main__.Cat"
      ]
     },
     "execution_count": 7,
     "metadata": {},
     "output_type": "execute_result"
    }
   ],
   "source": [
    "type(c1)"
   ]
  },
  {
   "cell_type": "code",
   "execution_count": 17,
   "metadata": {},
   "outputs": [],
   "source": [
    "class Student:\n",
    "    def __init__(self,name,klass,rollno,stream=\"bio\"): #class ke andr self likha h means instance method h \n",
    "        self.name = name\n",
    "        self.klass = klass\n",
    "        self.rollno = rollno\n",
    "        self.marks = {} # property of class\n",
    "    def think(self,object):\n",
    "        print(f\"{self.name}is thinking about{object}\") \n",
    "    def setMarks(self,subject,value):\n",
    "        print(self.marks,subject,value)\n",
    "        \n",
    "\n"
   ]
  },
  {
   "cell_type": "code",
   "execution_count": 18,
   "metadata": {},
   "outputs": [
    {
     "name": "stdout",
     "output_type": "stream",
     "text": [
      "{} hindi 90\n",
      "{} english 97\n",
      "{} maths 89\n",
      "{} hindi 90\n",
      "{} english 90\n",
      "{} maths 99\n"
     ]
    }
   ],
   "source": [
    "aditi = Student(\"aditi\",12,'22',\"maths\")\n",
    "anmol = Student(\"anmol\",11,'23')\n",
    "anmol.setMarks('hindi',90)\n",
    "anmol.setMarks('english',97)\n",
    "anmol.setMarks('maths',89)\n",
    "aditi.setMarks('hindi',90)\n",
    "aditi.setMarks('english',90)\n",
    "aditi.setMarks('maths',99)\n"
   ]
  },
  {
   "cell_type": "code",
   "execution_count": 14,
   "metadata": {},
   "outputs": [
    {
     "name": "stdout",
     "output_type": "stream",
     "text": [
      "{}\n"
     ]
    }
   ],
   "source": [
    "print(aditi.marks)"
   ]
  },
  {
   "cell_type": "markdown",
   "metadata": {},
   "source": [
    "inheritance"
   ]
  },
  {
   "cell_type": "code",
   "execution_count": 19,
   "metadata": {},
   "outputs": [],
   "source": [
    "class SuperList(list):\n",
    "    pass"
   ]
  },
  {
   "cell_type": "code",
   "execution_count": 58,
   "metadata": {},
   "outputs": [],
   "source": [
    "class superList(list):\n",
    "    def all_index(self,search):\n",
    "        idxs=[]\n",
    "        start_index=0\n",
    "        for i in range(self.count(search)):\n",
    "            pos = self.index(search,start_index)\n",
    "            idxs.append(pos)\n",
    "            start_index=pos + 1\n",
    "        return idxs    "
   ]
  },
  {
   "cell_type": "code",
   "execution_count": 59,
   "metadata": {},
   "outputs": [
    {
     "name": "stdout",
     "output_type": "stream",
     "text": [
      "[1, 2, 3, 4, 5, 5, 6, 5, 5, 5]\n",
      "[1, 2, 3, 4, 5, 5, 6, 5, 5, 5, 20]\n"
     ]
    }
   ],
   "source": [
    "x = superList([1,2,3,4,5,5,6,5,5,5])\n",
    "print(x)\n",
    "x.append(20)\n",
    "print(x) "
   ]
  },
  {
   "cell_type": "code",
   "execution_count": 60,
   "metadata": {},
   "outputs": [
    {
     "data": {
      "text/plain": [
       "[1]"
      ]
     },
     "execution_count": 60,
     "metadata": {},
     "output_type": "execute_result"
    }
   ],
   "source": [
    "x.all_index(2)"
   ]
  },
  {
   "cell_type": "code",
   "execution_count": null,
   "metadata": {},
   "outputs": [],
   "source": []
  },
  {
   "cell_type": "code",
   "execution_count": null,
   "metadata": {},
   "outputs": [],
   "source": []
  }
 ],
 "metadata": {
  "kernelspec": {
   "display_name": "base",
   "language": "python",
   "name": "python3"
  },
  "language_info": {
   "codemirror_mode": {
    "name": "ipython",
    "version": 3
   },
   "file_extension": ".py",
   "mimetype": "text/x-python",
   "name": "python",
   "nbconvert_exporter": "python",
   "pygments_lexer": "ipython3",
   "version": "3.10.10"
  },
  "orig_nbformat": 4
 },
 "nbformat": 4,
 "nbformat_minor": 2
}
