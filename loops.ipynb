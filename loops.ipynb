{
 "cells": [
  {
   "cell_type": "markdown",
   "metadata": {},
   "source": [
    "FOR"
   ]
  },
  {
   "cell_type": "code",
   "execution_count": 2,
   "metadata": {},
   "outputs": [
    {
     "name": "stdout",
     "output_type": "stream",
     "text": [
      "1\n",
      "1\n",
      "23\n",
      "529\n",
      "5\n",
      "25\n",
      "6\n",
      "36\n",
      "21\n",
      "441\n",
      "6\n",
      "36\n",
      "6\n",
      "36\n"
     ]
    }
   ],
   "source": [
    "nums=[1,23,5,6,21,6,6]#list of numbers\n",
    "for i in nums:\n",
    "    print(i)\n",
    "    print(i**2)"
   ]
  },
  {
   "cell_type": "code",
   "execution_count": 5,
   "metadata": {},
   "outputs": [
    {
     "name": "stdout",
     "output_type": "stream",
     "text": [
      "1\n",
      "529\n",
      "25\n",
      "36\n",
      "9\n",
      "36\n",
      "441\n",
      "36\n",
      "36\n"
     ]
    }
   ],
   "source": [
    "nums=[1,23,5,6,3,6,21,6,6]\n",
    "for i in nums:\n",
    "    print(i ** 2)"
   ]
  },
  {
   "cell_type": "code",
   "execution_count": 7,
   "metadata": {},
   "outputs": [
    {
     "name": "stdout",
     "output_type": "stream",
     "text": [
      "1\n",
      "1024\n",
      "529\n",
      "25\n",
      "36\n"
     ]
    }
   ],
   "source": [
    "nums=[1,23,5,6,3,6,21,6,6]\n",
    "for i in [1,32,23,5,6]:\n",
    "    print(i ** 2)"
   ]
  },
  {
   "cell_type": "code",
   "execution_count": 8,
   "metadata": {},
   "outputs": [
    {
     "name": "stdout",
     "output_type": "stream",
     "text": [
      "(0, 'John')\n",
      "(1, 'Jane')\n",
      "(2, 'Jack')\n",
      "(3, 'Jill')\n"
     ]
    }
   ],
   "source": [
    "names=['John','Jane','Jack','Jill']\n",
    "for name in enumerate(names):\n",
    "    print(name)"
   ]
  },
  {
   "cell_type": "code",
   "execution_count": 9,
   "metadata": {},
   "outputs": [
    {
     "name": "stdout",
     "output_type": "stream",
     "text": [
      "John\n",
      "Jane\n",
      "Jack\n",
      "Jill\n"
     ]
    }
   ],
   "source": [
    "names=['John','Jane','Jack','Jill']\n",
    "for name in (names):\n",
    "    print(name)"
   ]
  },
  {
   "cell_type": "code",
   "execution_count": 10,
   "metadata": {},
   "outputs": [
    {
     "name": "stdout",
     "output_type": "stream",
     "text": [
      "John 0\n",
      "Jane 1\n",
      "Jack 2\n",
      "Jill 3\n"
     ]
    }
   ],
   "source": [
    "names=['John','Jane','Jack','Jill']\n",
    "for idx, name in enumerate(names):\n",
    "    print(name , idx)"
   ]
  },
  {
   "cell_type": "code",
   "execution_count": 12,
   "metadata": {},
   "outputs": [
    {
     "name": "stdout",
     "output_type": "stream",
     "text": [
      "5\n",
      "18\n",
      "39\n",
      "68\n",
      "105\n"
     ]
    }
   ],
   "source": [
    "x=[2,4,6,8,10]\n",
    "y=[1,3,5,7,9]\n",
    "z=[3,6,9,12,15]\n",
    "for i,j ,k in zip(x,y,z):\n",
    "    print(i*j+k)"
   ]
  },
  {
   "cell_type": "code",
   "execution_count": 14,
   "metadata": {},
   "outputs": [
    {
     "name": "stdout",
     "output_type": "stream",
     "text": [
      "Intersteller        8.6🌟\n",
      "The Martian         8.0🌟\n",
      "Gravity             7.7🌟\n"
     ]
    }
   ],
   "source": [
    "movies=['Intersteller','The Martian','Gravity']\n",
    "rating=[8.6,8.0,7.7]\n",
    "\n",
    "for name , star in zip(movies, rating):\n",
    "    print(f'{name:20}{star}🌟')\n",
    "\n",
    "\n"
   ]
  },
  {
   "cell_type": "code",
   "execution_count": null,
   "metadata": {},
   "outputs": [],
   "source": []
  }
 ],
 "metadata": {
  "kernelspec": {
   "display_name": "base",
   "language": "python",
   "name": "python3"
  },
  "language_info": {
   "codemirror_mode": {
    "name": "ipython",
    "version": 3
   },
   "file_extension": ".py",
   "mimetype": "text/x-python",
   "name": "python",
   "nbconvert_exporter": "python",
   "pygments_lexer": "ipython3",
   "version": "3.10.10"
  },
  "orig_nbformat": 4
 },
 "nbformat": 4,
 "nbformat_minor": 2
}
