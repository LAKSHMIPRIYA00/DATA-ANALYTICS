{
 "cells": [
  {
   "cell_type": "markdown",
   "metadata": {},
   "source": [
    "FOR"
   ]
  },
  {
   "cell_type": "code",
   "execution_count": 2,
   "metadata": {},
   "outputs": [
    {
     "name": "stdout",
     "output_type": "stream",
     "text": [
      "1\n",
      "1\n",
      "23\n",
      "529\n",
      "5\n",
      "25\n",
      "6\n",
      "36\n",
      "21\n",
      "441\n",
      "6\n",
      "36\n",
      "6\n",
      "36\n"
     ]
    }
   ],
   "source": [
    "nums=[1,23,5,6,21,6,6]#list of numbers\n",
    "for i in nums:\n",
    "    print(i)\n",
    "    print(i**2)"
   ]
  },
  {
   "cell_type": "code",
   "execution_count": 5,
   "metadata": {},
   "outputs": [
    {
     "name": "stdout",
     "output_type": "stream",
     "text": [
      "1\n",
      "529\n",
      "25\n",
      "36\n",
      "9\n",
      "36\n",
      "441\n",
      "36\n",
      "36\n"
     ]
    }
   ],
   "source": [
    "nums=[1,23,5,6,3,6,21,6,6]\n",
    "for i in nums:\n",
    "    print(i ** 2)"
   ]
  },
  {
   "cell_type": "code",
   "execution_count": 7,
   "metadata": {},
   "outputs": [
    {
     "name": "stdout",
     "output_type": "stream",
     "text": [
      "1\n",
      "1024\n",
      "529\n",
      "25\n",
      "36\n"
     ]
    }
   ],
   "source": [
    "nums=[1,23,5,6,3,6,21,6,6]\n",
    "for i in [1,32,23,5,6]:\n",
    "    print(i ** 2)"
   ]
  },
  {
   "cell_type": "code",
   "execution_count": 8,
   "metadata": {},
   "outputs": [
    {
     "name": "stdout",
     "output_type": "stream",
     "text": [
      "(0, 'John')\n",
      "(1, 'Jane')\n",
      "(2, 'Jack')\n",
      "(3, 'Jill')\n"
     ]
    }
   ],
   "source": [
    "names=['John','Jane','Jack','Jill']\n",
    "for name in enumerate(names):\n",
    "    print(name)"
   ]
  },
  {
   "cell_type": "code",
   "execution_count": 9,
   "metadata": {},
   "outputs": [
    {
     "name": "stdout",
     "output_type": "stream",
     "text": [
      "John\n",
      "Jane\n",
      "Jack\n",
      "Jill\n"
     ]
    }
   ],
   "source": [
    "names=['John','Jane','Jack','Jill']\n",
    "for name in (names):\n",
    "    print(name)"
   ]
  },
  {
   "cell_type": "code",
   "execution_count": 10,
   "metadata": {},
   "outputs": [
    {
     "name": "stdout",
     "output_type": "stream",
     "text": [
      "John 0\n",
      "Jane 1\n",
      "Jack 2\n",
      "Jill 3\n"
     ]
    }
   ],
   "source": [
    "names=['John','Jane','Jack','Jill']\n",
    "for idx, name in enumerate(names):\n",
    "    print(name , idx)"
   ]
  },
  {
   "cell_type": "code",
   "execution_count": 12,
   "metadata": {},
   "outputs": [
    {
     "name": "stdout",
     "output_type": "stream",
     "text": [
      "5\n",
      "18\n",
      "39\n",
      "68\n",
      "105\n"
     ]
    }
   ],
   "source": [
    "x=[2,4,6,8,10]\n",
    "y=[1,3,5,7,9]\n",
    "z=[3,6,9,12,15]\n",
    "for i,j ,k in zip(x,y,z):\n",
    "    print(i*j+k)"
   ]
  },
  {
   "cell_type": "code",
   "execution_count": 14,
   "metadata": {},
   "outputs": [
    {
     "name": "stdout",
     "output_type": "stream",
     "text": [
      "Intersteller        8.6🌟\n",
      "The Martian         8.0🌟\n",
      "Gravity             7.7🌟\n"
     ]
    }
   ],
   "source": [
    "movies=['Intersteller','The Martian','Gravity']\n",
    "rating=[8.6,8.0,7.7]\n",
    "\n",
    "for name , star in zip(movies, rating):\n",
    "    print(f'{name:20}{star}🌟')\n",
    "\n",
    "\n"
   ]
  },
  {
   "cell_type": "code",
   "execution_count": 9,
   "metadata": {},
   "outputs": [
    {
     "name": "stdout",
     "output_type": "stream",
     "text": [
      "prime numbers 0 and 50 :\n",
      "2\n",
      "3\n",
      "5\n",
      "7\n",
      "11\n",
      "13\n",
      "17\n",
      "19\n",
      "23\n",
      "29\n",
      "31\n",
      "37\n",
      "41\n",
      "43\n",
      "47\n"
     ]
    }
   ],
   "source": [
    "start=0\n",
    "end=50\n",
    "print('prime numbers',start,'and',end,':')\n",
    "for num in range(start,end+1):\n",
    "    if num>1:\n",
    "        for i in range(2,num):\n",
    "            if(num%i)==0:\n",
    "                break\n",
    "        else:\n",
    "            print(num)"
   ]
  },
  {
   "cell_type": "code",
   "execution_count": 6,
   "metadata": {},
   "outputs": [
    {
     "name": "stdout",
     "output_type": "stream",
     "text": [
      "1 2 2 3 2 2 1 2 2 3 "
     ]
    }
   ],
   "source": [
    "x=[1, 2, 2, 3 , 2 , 2 , 1 , 2 , 2 , 3 , 0 , 4, 5 , 1 , 2 , 4 , 5,]\n",
    "for i in x:\n",
    "    if i ==0:\n",
    "        break\n",
    "    print(i,end=' ')"
   ]
  },
  {
   "cell_type": "code",
   "execution_count": 7,
   "metadata": {},
   "outputs": [
    {
     "name": "stdout",
     "output_type": "stream",
     "text": [
      "3 2 2 1 2 5 6 7 3 1 2 2  loop completed\n"
     ]
    }
   ],
   "source": [
    "x=[3,2,2,1,2,5,6,7,3,1,2,2]\n",
    "for i in x:\n",
    "    if i ==0:\n",
    "        break\n",
    "    print(i,end=' ')\n",
    "else:\n",
    "    print(' loop completed')    "
   ]
  },
  {
   "cell_type": "code",
   "execution_count": 11,
   "metadata": {},
   "outputs": [
    {
     "name": "stdout",
     "output_type": "stream",
     "text": [
      "Prime\n"
     ]
    }
   ],
   "source": [
    "num=7\n",
    "for i in range(2, num):\n",
    "    if num % i == 0:\n",
    "        print('Not prime')\n",
    "        break\n",
    "else:\n",
    "    print('Prime')    "
   ]
  },
  {
   "cell_type": "code",
   "execution_count": 13,
   "metadata": {},
   "outputs": [
    {
     "name": "stdout",
     "output_type": "stream",
     "text": [
      "15%2=1\n",
      "15%3=0\n",
      "Not prime\n"
     ]
    }
   ],
   "source": [
    "num=int(input('enter a number:'))\n",
    "\n",
    "for i in range(2, num):\n",
    "    print(f'{num}%{i}={num%i}')\n",
    "    if num % i == 0:\n",
    "        print('Not prime')\n",
    "        break\n",
    "else:\n",
    "    print('Prime')"
   ]
  },
  {
   "cell_type": "code",
   "execution_count": 14,
   "metadata": {},
   "outputs": [
    {
     "name": "stdout",
     "output_type": "stream",
     "text": [
      "1 2 3 5 1 2 23 3 1 2 2 3 3 "
     ]
    }
   ],
   "source": [
    "x=[1,2,3,None,5,1,None,2,23,None,3,1,2,2,3,None,3]\n",
    "for num in x:\n",
    "    if num is None:\n",
    "        continue\n",
    "    print(num,end=' ')"
   ]
  },
  {
   "cell_type": "code",
   "execution_count": 16,
   "metadata": {},
   "outputs": [
    {
     "name": "stdout",
     "output_type": "stream",
     "text": [
      "1 2 3 5 1 2 23 3 1 2 2 3 3 "
     ]
    }
   ],
   "source": [
    "for num in x:\n",
    "    if num is not  None:\n",
    "        print(num,end=' ')"
   ]
  },
  {
   "cell_type": "code",
   "execution_count": 30,
   "metadata": {},
   "outputs": [
    {
     "name": "stdout",
     "output_type": "stream",
     "text": [
      "43\n"
     ]
    }
   ],
   "source": [
    "\n",
    "odd_sum=0\n",
    "for num in x:\n",
    "    if num is not None and num%2!=0:\n",
    "        odd_sum += num\n",
    "print(odd_sum)        \n",
    "\n",
    "\n"
   ]
  },
  {
   "cell_type": "markdown",
   "metadata": {},
   "source": [
    "INFINITE  LOOP  "
   ]
  },
  {
   "cell_type": "code",
   "execution_count": 32,
   "metadata": {},
   "outputs": [
    {
     "name": "stdout",
     "output_type": "stream",
     "text": [
      "wrong username\n",
      "wrong username\n",
      "welcome\n"
     ]
    }
   ],
   "source": [
    "while True:\n",
    "    user = input('enter username:')\n",
    "    password = input(' enter password:')\n",
    "    if user == 'admin':\n",
    "        if password=='secret':\n",
    "            print('welcome')\n",
    "            break\n",
    "        else:\n",
    "            print('wrong password')\n",
    "    else:\n",
    "        print('wrong username')        "
   ]
  },
  {
   "cell_type": "markdown",
   "metadata": {},
   "source": [
    "DATASTRUCTURES IN PYTHON  \n",
    "\n",
    "\n",
    "1 STRING  \n",
    "2 LIST  \n",
    "3 TUPLE  \n",
    "4 SET  \n",
    "5 DICITIONARY  "
   ]
  },
  {
   "cell_type": "code",
   "execution_count": null,
   "metadata": {},
   "outputs": [],
   "source": []
  }
 ],
 "metadata": {
  "kernelspec": {
   "display_name": "base",
   "language": "python",
   "name": "python3"
  },
  "language_info": {
   "codemirror_mode": {
    "name": "ipython",
    "version": 3
   },
   "file_extension": ".py",
   "mimetype": "text/x-python",
   "name": "python",
   "nbconvert_exporter": "python",
   "pygments_lexer": "ipython3",
   "version": "3.10.10"
  },
  "orig_nbformat": 4
 },
 "nbformat": 4,
 "nbformat_minor": 2
}
