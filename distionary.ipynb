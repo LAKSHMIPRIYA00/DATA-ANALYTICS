{
 "cells": [
  {
   "cell_type": "code",
   "execution_count": 3,
   "metadata": {},
   "outputs": [
    {
     "name": "stdout",
     "output_type": "stream",
     "text": [
      "{'english': 56, 'hindi': 90, 'maths': 34, 'chem': 34, 'evs': 56}\n"
     ]
    }
   ],
   "source": [
    "raju=[56,90,34,34,56]\n",
    "raju_dict={\n",
    "    'english':56,\n",
    "    'hindi':90,\n",
    "    'maths':34,\n",
    "    'chem':34,\n",
    "    'evs':56\n",
    "}\n",
    "print(raju_dict)"
   ]
  },
  {
   "cell_type": "code",
   "execution_count": 4,
   "metadata": {},
   "outputs": [],
   "source": [
    "university={\n",
    "    'stu001':{\n",
    "        'name':\"'lakshmi priya\",\n",
    "        'designation':\"Student\",\n",
    "        'Salary':\"None\"\n",
    "    },\n",
    "    'stu002':{\n",
    "        'name':'Rinni singh',\n",
    "        'designation':\"student\",\n",
    "        'salary':'none'\n",
    "\n",
    "    },\n",
    "    'total_stu':2,\n",
    "    'department':'education',\n",
    "    'vacancy':['computer department','financial','sports']\n",
    "}"
   ]
  },
  {
   "cell_type": "code",
   "execution_count": 5,
   "metadata": {},
   "outputs": [
    {
     "data": {
      "text/plain": [
       "{'stu001': {'name': \"'lakshmi priya\",\n",
       "  'designation': 'Student',\n",
       "  'Salary': 'None'},\n",
       " 'stu002': {'name': 'Rinni singh', 'designation': 'student', 'salary': 'none'},\n",
       " 'total_stu': 2,\n",
       " 'department': 'education',\n",
       " 'vacancy': ['computer department', 'financial', 'sports']}"
      ]
     },
     "execution_count": 5,
     "metadata": {},
     "output_type": "execute_result"
    }
   ],
   "source": [
    "university"
   ]
  },
  {
   "cell_type": "code",
   "execution_count": 6,
   "metadata": {},
   "outputs": [
    {
     "name": "stdout",
     "output_type": "stream",
     "text": [
      "{'stu001': {'name': \"'lakshmi priya\", 'designation': 'Student', 'Salary': 'None'}, 'stu002': {'name': 'Rinni singh', 'designation': 'student', 'salary': 'none'}, 'total_stu': 2, 'department': 'education', 'vacancy': ['computer department', 'financial', 'sports'], 'name': 'Shri ramswroop'}\n"
     ]
    }
   ],
   "source": [
    "university['name']='Shri ramswroop'\n",
    "# iss line se hamare distionary me key ya value add hojayegi\n",
    "print(university)"
   ]
  },
  {
   "cell_type": "code",
   "execution_count": 7,
   "metadata": {},
   "outputs": [],
   "source": [
    "university['total_stu']=10\n",
    "university['stu003']={\n",
    "    'name':'Aakarsh singh',\n",
    "    'designation':'student',\n",
    "    'salary':'none'\n",
    "}"
   ]
  },
  {
   "cell_type": "code",
   "execution_count": 8,
   "metadata": {},
   "outputs": [
    {
     "data": {
      "text/plain": [
       "{'stu001': {'name': \"'lakshmi priya\",\n",
       "  'designation': 'Student',\n",
       "  'Salary': 'None'},\n",
       " 'stu002': {'name': 'Rinni singh', 'designation': 'student', 'salary': 'none'},\n",
       " 'total_stu': 10,\n",
       " 'department': 'education',\n",
       " 'vacancy': ['computer department', 'financial', 'sports'],\n",
       " 'name': 'Shri ramswroop',\n",
       " 'stu003': {'name': 'Aakarsh singh',\n",
       "  'designation': 'student',\n",
       "  'salary': 'none'}}"
      ]
     },
     "execution_count": 8,
     "metadata": {},
     "output_type": "execute_result"
    }
   ],
   "source": [
    "university"
   ]
  },
  {
   "cell_type": "code",
   "execution_count": 9,
   "metadata": {},
   "outputs": [],
   "source": [
    "university['stu001']\n",
    "# or issi chiz ko aise bhi kr skte haii\n",
    "university.get('website')"
   ]
  },
  {
   "cell_type": "code",
   "execution_count": 10,
   "metadata": {},
   "outputs": [],
   "source": [
    "if 'website' in university:\n",
    "    print('wesite exists in dict')"
   ]
  },
  {
   "cell_type": "code",
   "execution_count": 11,
   "metadata": {},
   "outputs": [
    {
     "name": "stdout",
     "output_type": "stream",
     "text": [
      "dict_keys(['stu001', 'stu002', 'total_stu', 'department', 'vacancy', 'name', 'stu003'])\n",
      "dict_values([{'name': \"'lakshmi priya\", 'designation': 'Student', 'Salary': 'None'}, {'name': 'Rinni singh', 'designation': 'student', 'salary': 'none'}, 10, 'education', ['computer department', 'financial', 'sports'], 'Shri ramswroop', {'name': 'Aakarsh singh', 'designation': 'student', 'salary': 'none'}])\n"
     ]
    }
   ],
   "source": [
    "print(university.keys())\n",
    "print(university.values())"
   ]
  },
  {
   "cell_type": "code",
   "execution_count": 12,
   "metadata": {},
   "outputs": [
    {
     "name": "stdout",
     "output_type": "stream",
     "text": [
      "dict_items([('stu001', {'name': \"'lakshmi priya\", 'designation': 'Student', 'Salary': 'None'}), ('stu002', {'name': 'Rinni singh', 'designation': 'student', 'salary': 'none'}), ('total_stu', 10), ('department', 'education'), ('vacancy', ['computer department', 'financial', 'sports']), ('name', 'Shri ramswroop'), ('stu003', {'name': 'Aakarsh singh', 'designation': 'student', 'salary': 'none'})])\n"
     ]
    }
   ],
   "source": [
    "print(university.items())# items se pairs aate haii "
   ]
  },
  {
   "cell_type": "code",
   "execution_count": 13,
   "metadata": {},
   "outputs": [
    {
     "name": "stdout",
     "output_type": "stream",
     "text": [
      "{'name': \"'lakshmi priya\", 'designation': 'Student', 'Salary': 'None'}\n",
      "{'name': 'Rinni singh', 'designation': 'student', 'salary': 'none'}\n",
      "10\n",
      "education\n",
      "['computer department', 'financial', 'sports']\n",
      "Shri ramswroop\n",
      "{'name': 'Aakarsh singh', 'designation': 'student', 'salary': 'none'}\n"
     ]
    }
   ],
   "source": [
    "for i in university:\n",
    "    print(university[i])"
   ]
  },
  {
   "cell_type": "code",
   "execution_count": 14,
   "metadata": {},
   "outputs": [
    {
     "name": "stdout",
     "output_type": "stream",
     "text": [
      "stu001 {'name': \"'lakshmi priya\", 'designation': 'Student', 'Salary': 'None'}\n",
      "stu002 {'name': 'Rinni singh', 'designation': 'student', 'salary': 'none'}\n",
      "total_stu 10\n",
      "department education\n",
      "vacancy ['computer department', 'financial', 'sports']\n",
      "name Shri ramswroop\n",
      "stu003 {'name': 'Aakarsh singh', 'designation': 'student', 'salary': 'none'}\n"
     ]
    }
   ],
   "source": [
    "for i in university:\n",
    "    print(i,university[i])"
   ]
  },
  {
   "cell_type": "code",
   "execution_count": 15,
   "metadata": {},
   "outputs": [
    {
     "name": "stdout",
     "output_type": "stream",
     "text": [
      "stu001 {'name': \"'lakshmi priya\", 'designation': 'Student', 'Salary': 'None'}\n",
      "stu002 {'name': 'Rinni singh', 'designation': 'student', 'salary': 'none'}\n",
      "total_stu 10\n",
      "department education\n",
      "vacancy ['computer department', 'financial', 'sports']\n",
      "name Shri ramswroop\n",
      "stu003 {'name': 'Aakarsh singh', 'designation': 'student', 'salary': 'none'}\n"
     ]
    }
   ],
   "source": [
    "for k,v in university.items(): # 18 wale ko hi krne ka aik or tarika\n",
    "    print(k,v)"
   ]
  },
  {
   "cell_type": "code",
   "execution_count": 16,
   "metadata": {},
   "outputs": [
    {
     "name": "stdout",
     "output_type": "stream",
     "text": [
      "stu001\n",
      "---> name 'lakshmi priya\n",
      "---> designation Student\n",
      "---> Salary None\n",
      "stu002\n",
      "---> name Rinni singh\n",
      "---> designation student\n",
      "---> salary none\n",
      "total_stu 10\n",
      "department education\n",
      "vacancy ['computer department', 'financial', 'sports']\n",
      "name Shri ramswroop\n",
      "stu003\n",
      "---> name Aakarsh singh\n",
      "---> designation student\n",
      "---> salary none\n"
     ]
    }
   ],
   "source": [
    "for k,v in university.items():\n",
    "    if isinstance(v,dict):\n",
    "        print(k)\n",
    "        for key, value in v.items():\n",
    "            print(\"--->\",key, value)\n",
    "    else:\n",
    "        print(k,v)        "
   ]
  },
  {
   "cell_type": "code",
   "execution_count": 17,
   "metadata": {},
   "outputs": [],
   "source": [
    "# wap to create a distionary which takes user input and stores the name of the item and its prize"
   ]
  },
  {
   "cell_type": "code",
   "execution_count": 2,
   "metadata": {},
   "outputs": [],
   "source": [
    "dict={}\n",
    "while True:\n",
    "    a=(input('enter key'))\n",
    "    b=(input('enter values'))\n",
    "    \n",
    "    dict[a] = b"
   ]
  },
  {
   "cell_type": "code",
   "execution_count": 3,
   "metadata": {},
   "outputs": [
    {
     "data": {
      "text/plain": [
       "{'abc': '12', 'bhgf': '13'}"
      ]
     },
     "execution_count": 3,
     "metadata": {},
     "output_type": "execute_result"
    }
   ],
   "source": [
    "dict"
   ]
  },
  {
   "cell_type": "code",
   "execution_count": null,
   "metadata": {},
   "outputs": [],
   "source": []
  }
 ],
 "metadata": {
  "kernelspec": {
   "display_name": "base",
   "language": "python",
   "name": "python3"
  },
  "language_info": {
   "codemirror_mode": {
    "name": "ipython",
    "version": 3
   },
   "file_extension": ".py",
   "mimetype": "text/x-python",
   "name": "python",
   "nbconvert_exporter": "python",
   "pygments_lexer": "ipython3",
   "version": "3.10.10"
  },
  "orig_nbformat": 4
 },
 "nbformat": 4,
 "nbformat_minor": 2
}
