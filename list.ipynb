{
 "cells": [
  {
   "cell_type": "markdown",
   "metadata": {},
   "source": [
    "#LIST   \n",
    "- INDEXED,ORDERED,*MUTABLE*,ALLOWS DUBLICATE ELEMENTS  \n",
    "- HETROGENOUS,'[ ],'list()'   \n",
    "\n",
    "# TUPLE   \n",
    "\n",
    "-INDEXED,ORDERED,*IMMUTABLE*,ALLOWS DUBLICATE ELEMENTS , HETROGENOUS ,'( )','tuple()'\n",
    "\n",
    "# SET\n",
    "\n",
    "*UNORDERED*, *MUTABLE*,DOES NOT ALLOW DUBLICATE ELEMENT , HETROGENOUS, '{ }' , 'set()'\n",
    "\n",
    "# DISTIONARY  \n",
    "\n",
    "*UNORDERED *,* MUTABLE* DOES NOT ALLOW DUBLICATION HETROGENOUS,KEY:Value pairs,{ }, 'dict()'"
   ]
  },
  {
   "cell_type": "markdown",
   "metadata": {},
   "source": [
    "#list  \n",
    "- creating\n",
    "- indexing and slicing  \n",
    "- methods (11 methods)\n",
    " - list comprehension "
   ]
  },
  {
   "cell_type": "code",
   "execution_count": 17,
   "metadata": {},
   "outputs": [],
   "source": [
    "x = [1,2,3,4,5]\n",
    "names=['laksh','priya','soo','maa']\n",
    "mix=[1,'laksh',3.14,'true']\n",
    "nested=[[1,2,3],[4,5,6],[7,8,9]]\n",
    "mt=[]\n",
    "cloned=[1,2,3]*5#repeat list 5 times\n",
    "words='this is sparta'.split()\n",
    "chars=list('alexander')"
   ]
  },
  {
   "cell_type": "code",
   "execution_count": 6,
   "metadata": {},
   "outputs": [
    {
     "name": "stdout",
     "output_type": "stream",
     "text": [
      "100\n",
      "5\n",
      "100\n"
     ]
    }
   ],
   "source": [
    "print(x[0])\n",
    "print(x[-1])\n",
    "x[0]=100 # updating values at index 0\n",
    "print(x[0])"
   ]
  },
  {
   "cell_type": "code",
   "execution_count": 7,
   "metadata": {},
   "outputs": [
    {
     "data": {
      "text/plain": [
       "['a', 'l', 'e', 'x', 'a']"
      ]
     },
     "execution_count": 7,
     "metadata": {},
     "output_type": "execute_result"
    }
   ],
   "source": [
    "chars[:5]"
   ]
  },
  {
   "cell_type": "code",
   "execution_count": 9,
   "metadata": {},
   "outputs": [
    {
     "data": {
      "text/plain": [
       "['r', 'e', 'd', 'n', 'a', 'x', 'e', 'l', 'a']"
      ]
     },
     "execution_count": 9,
     "metadata": {},
     "output_type": "execute_result"
    }
   ],
   "source": [
    "chars[::-1]"
   ]
  },
  {
   "cell_type": "code",
   "execution_count": 11,
   "metadata": {},
   "outputs": [
    {
     "name": "stdout",
     "output_type": "stream",
     "text": [
      "\n"
     ]
    }
   ],
   "source": [
    "print() #this is a finction , functions can be directly accesed "
   ]
  },
  {
   "cell_type": "code",
   "execution_count": 12,
   "metadata": {},
   "outputs": [
    {
     "data": {
      "text/plain": [
       "<function list.append(object, /)>"
      ]
     },
     "execution_count": 12,
     "metadata": {},
     "output_type": "execute_result"
    }
   ],
   "source": [
    "x.append #this is a method , methods are linked to a variable"
   ]
  },
  {
   "cell_type": "markdown",
   "metadata": {},
   "source": [
    "- adding  \n",
    "     - append()  -  adds an element to the end of the list  \n",
    "     - extend()  -  adds all element  of one list to another list \n",
    "     - insert()  -  adds elements at a specific index \n",
    "-  removing \n",
    "     - remove()  -\n",
    "     - pop()     -\n",
    "     - clear()   -\n",
    "- utility \n",
    "     - count()  \n",
    "     -inex()  \n",
    "     - sort()  \n",
    "     -reverse()  \n",
    "     -copy()  "
   ]
  },
  {
   "cell_type": "code",
   "execution_count": 13,
   "metadata": {},
   "outputs": [],
   "source": [
    "x.append(6)"
   ]
  },
  {
   "cell_type": "code",
   "execution_count": 16,
   "metadata": {},
   "outputs": [
    {
     "name": "stdout",
     "output_type": "stream",
     "text": [
      "[100, 2, 3, 4, 5, 6, 3, 3, 3]\n"
     ]
    }
   ],
   "source": [
    "x.append(3)\n",
    "print(x)"
   ]
  },
  {
   "cell_type": "code",
   "execution_count": 17,
   "metadata": {},
   "outputs": [
    {
     "name": "stdout",
     "output_type": "stream",
     "text": [
      "[100, 2, 3, 4, 5, 6, 3, 3, 3, 11, 12, 13]\n"
     ]
    }
   ],
   "source": [
    "a = [11,12,13]\n",
    "x.extend(a)\n",
    "print(x)"
   ]
  },
  {
   "cell_type": "code",
   "execution_count": 21,
   "metadata": {},
   "outputs": [
    {
     "name": "stdout",
     "output_type": "stream",
     "text": [
      "[100, 2, 3, 4, 5, 100, 500, 6, 3, 3, 3, 11, 12, 13]\n"
     ]
    }
   ],
   "source": [
    "x.insert(5,100)\n",
    "x.insert(6,500)\n",
    "print(x)"
   ]
  },
  {
   "cell_type": "code",
   "execution_count": 1,
   "metadata": {},
   "outputs": [
    {
     "name": "stdout",
     "output_type": "stream",
     "text": [
      "['', '6', '5', '4', '3', '2', '1,2,3,4,5,6,7,8,9,10', '1', '2', '4']\n"
     ]
    }
   ],
   "source": [
    "udata=[]\n",
    "for s in range(10):\n",
    "    x=input('enter something:')\n",
    "    udata.append(x)\n",
    "print(udata)"
   ]
  },
  {
   "cell_type": "code",
   "execution_count": 4,
   "metadata": {},
   "outputs": [
    {
     "name": "stdout",
     "output_type": "stream",
     "text": [
      "['', '6', '4', '3', '2', '1,2,3,4,5,6,7,8,9,10', '1', '2', '4']\n"
     ]
    }
   ],
   "source": [
    "if '5' in udata:\n",
    "    udata.remove('5')\n",
    "print(udata)    "
   ]
  },
  {
   "cell_type": "code",
   "execution_count": 7,
   "metadata": {},
   "outputs": [
    {
     "name": "stdout",
     "output_type": "stream",
     "text": [
      "9 not found\n"
     ]
    }
   ],
   "source": [
    "udata.remove('9')if '9' in udata else print('9 not found')"
   ]
  },
  {
   "cell_type": "code",
   "execution_count": 10,
   "metadata": {},
   "outputs": [
    {
     "name": "stdout",
     "output_type": "stream",
     "text": [
      "5\n",
      "3\n"
     ]
    }
   ],
   "source": [
    "x= [1,2,3,4,5]\n",
    "print(x.pop())\n",
    "print(x.pop(2))  #opposite of pop is insert and opposite of remove is append"
   ]
  },
  {
   "cell_type": "code",
   "execution_count": 11,
   "metadata": {},
   "outputs": [
    {
     "name": "stdout",
     "output_type": "stream",
     "text": [
      "[]\n"
     ]
    }
   ],
   "source": [
    "udata.clear()\n",
    "print(udata)"
   ]
  },
  {
   "cell_type": "code",
   "execution_count": 12,
   "metadata": {},
   "outputs": [],
   "source": [
    "del x"
   ]
  },
  {
   "cell_type": "code",
   "execution_count": 14,
   "metadata": {},
   "outputs": [
    {
     "data": {
      "text/plain": [
       "6"
      ]
     },
     "execution_count": 14,
     "metadata": {},
     "output_type": "execute_result"
    }
   ],
   "source": [
    "a=[1,2,3,4,1,1,1,1,1]\n",
    "a.count(1)"
   ]
  },
  {
   "cell_type": "code",
   "execution_count": 18,
   "metadata": {},
   "outputs": [
    {
     "name": "stdout",
     "output_type": "stream",
     "text": [
      "['laksh', 'maa', 'priya', 'soo']\n"
     ]
    }
   ],
   "source": [
    "#sort only works with same data types \n",
    "names.sort()\n",
    "print(names)"
   ]
  },
  {
   "cell_type": "code",
   "execution_count": 22,
   "metadata": {},
   "outputs": [
    {
     "data": {
      "text/plain": [
       "109"
      ]
     },
     "execution_count": 22,
     "metadata": {},
     "output_type": "execute_result"
    }
   ],
   "source": [
    "ord('m')"
   ]
  },
  {
   "cell_type": "code",
   "execution_count": 30,
   "metadata": {},
   "outputs": [
    {
     "name": "stdout",
     "output_type": "stream",
     "text": [
      "enter number 24\n",
      "[1, 1, 2, 3, 5, 8, 13, 21, 34]\n"
     ]
    }
   ],
   "source": [
    "l=[]\n",
    "num=int(input('enter something'))\n",
    "i=0\n",
    "b=1\n",
    "n=0\n",
    "print('enter number',num)\n",
    "while n <=num:\n",
    "    i=b\n",
    "    b=n\n",
    "    n=i+b\n",
    "    l.append(n)\n",
    "print(l)\n",
    "    "
   ]
  },
  {
   "cell_type": "code",
   "execution_count": null,
   "metadata": {},
   "outputs": [],
   "source": [
    "x=[0,1]\n",
    "x=[0,1,1]\n",
    "x=[0,1,1,2]"
   ]
  },
  {
   "cell_type": "code",
   "execution_count": 32,
   "metadata": {},
   "outputs": [
    {
     "name": "stdout",
     "output_type": "stream",
     "text": [
      "[0, 1, 1, 2, 3, 5, 8, 13, 21, 34, 55, 89]\n"
     ]
    }
   ],
   "source": [
    "a=[0,1]\n",
    "for i in range(10):\n",
    "    a.append(a[-2]+a[-1])\n",
    "print(a)\n"
   ]
  },
  {
   "cell_type": "code",
   "execution_count": 33,
   "metadata": {},
   "outputs": [],
   "source": [
    "#comprehension....\n"
   ]
  },
  {
   "cell_type": "code",
   "execution_count": null,
   "metadata": {},
   "outputs": [],
   "source": []
  }
 ],
 "metadata": {
  "kernelspec": {
   "display_name": "base",
   "language": "python",
   "name": "python3"
  },
  "language_info": {
   "codemirror_mode": {
    "name": "ipython",
    "version": 3
   },
   "file_extension": ".py",
   "mimetype": "text/x-python",
   "name": "python",
   "nbconvert_exporter": "python",
   "pygments_lexer": "ipython3",
   "version": "3.10.10"
  },
  "orig_nbformat": 4
 },
 "nbformat": 4,
 "nbformat_minor": 2
}
