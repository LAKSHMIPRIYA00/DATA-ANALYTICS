{
 "cells": [
  {
   "cell_type": "markdown",
   "metadata": {},
   "source": [
    "  *synatax*  \n",
    "...  \n",
    "def fun_name([parameters]):  \n",
    "     statement 1  \n",
    "     statement 2  \n",
    "     ...  \n",
    "     statment n  \n",
    "     [return value]  "
   ]
  },
  {
   "cell_type": "markdown",
   "metadata": {},
   "source": [
    "Types of user defined functions  \n",
    "1. Non-parameterized non returning function    \n",
    "2. value returning functions  \n",
    "3. parameterized function   \n",
    "   - positional required arguments \n",
    "   - named arguments   \n",
    "   - default arguments     \n",
    "   - variable length arguments   \n",
    "   - keyword arguments   \n",
    "4. parameterized and value returning functions \n",
    "5. lamda functions    "
   ]
  },
  {
   "cell_type": "code",
   "execution_count": 59,
   "metadata": {},
   "outputs": [],
   "source": [
    "from random import random"
   ]
  },
  {
   "cell_type": "code",
   "execution_count": 60,
   "metadata": {},
   "outputs": [
    {
     "data": {
      "text/plain": [
       "0.8144549014729022"
      ]
     },
     "execution_count": 60,
     "metadata": {},
     "output_type": "execute_result"
    }
   ],
   "source": [
    "random()"
   ]
  },
  {
   "cell_type": "code",
   "execution_count": 61,
   "metadata": {},
   "outputs": [],
   "source": [
    "def inspireMe():\n",
    "    from random import choice\n",
    "    q=[\n",
    "        'The best way to predict the function is to invent it.',\n",
    "        'The most important step is always the next step',\n",
    "        'Hardwork beats talent',\n",
    "        'Early to bed'\n",
    "    ]\n",
    "    return choice(q)"
   ]
  },
  {
   "cell_type": "code",
   "execution_count": 62,
   "metadata": {},
   "outputs": [
    {
     "data": {
      "text/plain": [
       "'Early to bed'"
      ]
     },
     "execution_count": 62,
     "metadata": {},
     "output_type": "execute_result"
    }
   ],
   "source": [
    "inspireMe()"
   ]
  },
  {
   "cell_type": "code",
   "execution_count": 63,
   "metadata": {},
   "outputs": [
    {
     "name": "stdout",
     "output_type": "stream",
     "text": [
      "2\n",
      "3\n",
      "6\n"
     ]
    }
   ],
   "source": [
    "def dicey():\n",
    "    from random import randint\n",
    "    return randint(1,6)\n",
    "\n",
    "print(dicey())\n",
    "print(dicey())\n",
    "print(dicey())\n"
   ]
  },
  {
   "cell_type": "code",
   "execution_count": 64,
   "metadata": {},
   "outputs": [
    {
     "name": "stdout",
     "output_type": "stream",
     "text": [
      "3\n"
     ]
    }
   ],
   "source": [
    "roll = dicey()\n",
    "print(roll)"
   ]
  },
  {
   "cell_type": "code",
   "execution_count": 65,
   "metadata": {},
   "outputs": [
    {
     "data": {
      "text/plain": [
       "27"
      ]
     },
     "execution_count": 65,
     "metadata": {},
     "output_type": "execute_result"
    }
   ],
   "source": [
    "dicey()+dicey()*5"
   ]
  },
  {
   "cell_type": "code",
   "execution_count": 66,
   "metadata": {},
   "outputs": [],
   "source": [
    "def is_prime(num):\n",
    "    \n",
    "    for i in range(2,num):\n",
    "        if num % i == 0:\n",
    "            return False\n",
    "    return True    "
   ]
  },
  {
   "cell_type": "code",
   "execution_count": 67,
   "metadata": {},
   "outputs": [
    {
     "data": {
      "text/plain": [
       "True"
      ]
     },
     "execution_count": 67,
     "metadata": {},
     "output_type": "execute_result"
    }
   ],
   "source": [
    "is_prime(13)"
   ]
  },
  {
   "cell_type": "code",
   "execution_count": 68,
   "metadata": {},
   "outputs": [],
   "source": [
    "def si(p,r,t):\n",
    "    ans=p*r*t/100\n",
    "    print(\"principle:\",p)\n",
    "    print(\"rate:\",r)\n",
    "    print(\"time:\",t)\n",
    "    print(\"simple intrest:\", ans)"
   ]
  },
  {
   "cell_type": "code",
   "execution_count": 69,
   "metadata": {},
   "outputs": [
    {
     "name": "stdout",
     "output_type": "stream",
     "text": [
      "principle: 12000\n",
      "rate: 5\n",
      "time: 10\n",
      "simple intrest: 6000.0\n"
     ]
    }
   ],
   "source": [
    "si(12000,5,10)"
   ]
  },
  {
   "cell_type": "code",
   "execution_count": 70,
   "metadata": {},
   "outputs": [],
   "source": [
    "# wap to remove all the punctuation from the string provided by the user \n",
    "#hint  \n",
    "# from string import punctuationss"
   ]
  },
  {
   "cell_type": "code",
   "execution_count": 71,
   "metadata": {},
   "outputs": [
    {
     "data": {
      "text/plain": [
       "'    h i  how  are y '"
      ]
     },
     "execution_count": 71,
     "metadata": {},
     "output_type": "execute_result"
    }
   ],
   "source": [
    "from string import punctuation\n",
    "def clean_punc(data):\n",
    "    for p in punctuation:\n",
    "        data = data.replace(p,\" \")\n",
    "    return data    \n",
    "data = '#@$^h&i*&how^#are%y@'\n",
    "clean_punc(data)"
   ]
  },
  {
   "cell_type": "code",
   "execution_count": 72,
   "metadata": {},
   "outputs": [],
   "source": [
    "def summer(x:int,y:int,z:int)->int:\n",
    "    '''A function that returns that sum of x , y and z '''\n",
    "    return x+y+z"
   ]
  },
  {
   "cell_type": "code",
   "execution_count": 73,
   "metadata": {},
   "outputs": [],
   "source": [
    "def summer(x,y,z):\n",
    "    return x+y+z       "
   ]
  },
  {
   "cell_type": "code",
   "execution_count": 74,
   "metadata": {},
   "outputs": [
    {
     "name": "stdout",
     "output_type": "stream",
     "text": [
      "60\n",
      "60\n"
     ]
    }
   ],
   "source": [
    "print(summer(10, 20, 30))\n",
    "print(summer(x=10,y=20,z=30))# named parameters"
   ]
  },
  {
   "cell_type": "code",
   "execution_count": 75,
   "metadata": {},
   "outputs": [
    {
     "name": "stdout",
     "output_type": "stream",
     "text": [
      "113\n"
     ]
    }
   ],
   "source": [
    "a=int(input(\"enter a value:\"))\n",
    "b=int(input(\"enter a value:\"))\n",
    "c=int(input(\"enter a value:\"))\n",
    "ans= summer(x=a,y=b,z=c)\n",
    "print(ans)"
   ]
  },
  {
   "cell_type": "code",
   "execution_count": 76,
   "metadata": {},
   "outputs": [
    {
     "data": {
      "text/plain": [
       "60"
      ]
     },
     "execution_count": 76,
     "metadata": {},
     "output_type": "execute_result"
    }
   ],
   "source": [
    "summer(y=10,x=20,z=30)"
   ]
  },
  {
   "cell_type": "code",
   "execution_count": 77,
   "metadata": {},
   "outputs": [
    {
     "name": "stdout",
     "output_type": "stream",
     "text": [
      "10\n",
      "20\n",
      "30\n",
      "60000\n"
     ]
    }
   ],
   "source": [
    "def multiplier(a,b=1,c=1,d=1):\n",
    "    return a*b*c*d\n",
    "\n",
    "\n",
    "print(multiplier(10))\n",
    "print(multiplier(10,b=2))\n",
    "print(multiplier(10,3))   \n",
    "print(multiplier(10,d=10,c=20,b=30))"
   ]
  },
  {
   "cell_type": "code",
   "execution_count": 78,
   "metadata": {},
   "outputs": [
    {
     "name": "stdout",
     "output_type": "stream",
     "text": [
      "1\n",
      "10\n",
      "200\n",
      "2400\n",
      "32774160384000\n"
     ]
    }
   ],
   "source": [
    "#adding * to a parameters makes it a tuple  object - variable length arguments\n",
    "def multiplier(*nums):\n",
    "    result = 1\n",
    "    for num in nums:\n",
    "        result *= num\n",
    "    return result\n",
    "\n",
    "#use\n",
    "print(multiplier())        \n",
    "print(multiplier(10))\n",
    "print(multiplier(10,20))\n",
    "print(multiplier(10,2,3,1,2,4,5))\n",
    "print(multiplier(10,2,3,3,4,3,4,5,3,2,4,6,7,8,8,5,6,7,8,7,))"
   ]
  },
  {
   "cell_type": "code",
   "execution_count": 79,
   "metadata": {},
   "outputs": [],
   "source": [
    "# variable length keyword arguments"
   ]
  },
  {
   "cell_type": "code",
   "execution_count": 80,
   "metadata": {},
   "outputs": [
    {
     "name": "stdout",
     "output_type": "stream",
     "text": [
      "a this\n",
      "b that\n",
      "c the other\n"
     ]
    }
   ],
   "source": [
    "def msg(**kwargs):\n",
    "    for k,v in kwargs.items():\n",
    "        print(k,v)\n",
    "\n",
    "\n",
    "\n",
    "msg(a='this', b='that', c='the other')"
   ]
  },
  {
   "cell_type": "code",
   "execution_count": 81,
   "metadata": {},
   "outputs": [
    {
     "data": {
      "text/plain": [
       "'Records saved successfully'"
      ]
     },
     "execution_count": 81,
     "metadata": {},
     "output_type": "execute_result"
    }
   ],
   "source": [
    "# records\n",
    "def student_records(**students):\n",
    "    with open('records.txt','a') as file:\n",
    "        file.write('student details\\n')\n",
    "        for k,v in students.items():\n",
    "            file.write(f'{k} : {v}\\n')\n",
    "        file.write('\\n') \n",
    "    return 'Records saved successfully'\n",
    "\n",
    "\n",
    "student_records(\n",
    "    alex=87,\n",
    "    arum=59,\n",
    "    rakesh=92,\n",
    "    suresh=99,\n",
    "    brijesh=67\n",
    ")           "
   ]
  },
  {
   "cell_type": "code",
   "execution_count": 82,
   "metadata": {},
   "outputs": [
    {
     "data": {
      "text/plain": [
       "'Records saved successfully'"
      ]
     },
     "execution_count": 82,
     "metadata": {},
     "output_type": "execute_result"
    }
   ],
   "source": [
    "student_records(\n",
    "    ali=59,\n",
    "    ansh=64,\n",
    "    anmol=70,\n",
    ")"
   ]
  },
  {
   "cell_type": "code",
   "execution_count": 89,
   "metadata": {},
   "outputs": [
    {
     "data": {
      "text/plain": [
       "'f(3)'"
      ]
     },
     "execution_count": 89,
     "metadata": {},
     "output_type": "execute_result"
    }
   ],
   "source": [
    "'f(x)=x**2 + x*10 + x'\n",
    "'g(x,y)=x**y + y**2 + x*y'\n",
    "'f(2)'\n",
    "'f(3)'"
   ]
  },
  {
   "cell_type": "code",
   "execution_count": 84,
   "metadata": {},
   "outputs": [
    {
     "data": {
      "text/plain": [
       "59"
      ]
     },
     "execution_count": 84,
     "metadata": {},
     "output_type": "execute_result"
    }
   ],
   "source": [
    "3**3+3*10+2"
   ]
  },
  {
   "cell_type": "code",
   "execution_count": 93,
   "metadata": {},
   "outputs": [
    {
     "name": "stdout",
     "output_type": "stream",
     "text": [
      "42\n",
      "60\n",
      "80\n",
      "31\n",
      "49\n"
     ]
    }
   ],
   "source": [
    "f = lambda x:x**2 + x*10 + x\n",
    "g = lambda x,y: x**2+y**2+x*2\n",
    "print(f(3))\n",
    "print(f(4))\n",
    "print(f(5))\n",
    "print(g(3,4))\n",
    "print(g(4,5))"
   ]
  },
  {
   "cell_type": "code",
   "execution_count": 95,
   "metadata": {},
   "outputs": [
    {
     "name": "stdout",
     "output_type": "stream",
     "text": [
      "[276, 60, 102, 126, 1230, 3752, 8900]\n"
     ]
    }
   ],
   "source": [
    "data = [12,4,6,7,30,56,89]\n",
    "data2=[]\n",
    "for val in data:\n",
    "    data2.append(f(val))\n",
    "print(data2)    "
   ]
  },
  {
   "cell_type": "code",
   "execution_count": 97,
   "metadata": {},
   "outputs": [
    {
     "name": "stdout",
     "output_type": "stream",
     "text": [
      "[276, 60, 102, 126, 1230, 3752, 8900]\n"
     ]
    }
   ],
   "source": [
    "data = [12,4,6,7,30,56,89]\n",
    "data2 = list(map(f,data))\n",
    "print(data2)"
   ]
  },
  {
   "cell_type": "code",
   "execution_count": null,
   "metadata": {},
   "outputs": [],
   "source": []
  }
 ],
 "metadata": {
  "kernelspec": {
   "display_name": "base",
   "language": "python",
   "name": "python3"
  },
  "language_info": {
   "codemirror_mode": {
    "name": "ipython",
    "version": 3
   },
   "file_extension": ".py",
   "mimetype": "text/x-python",
   "name": "python",
   "nbconvert_exporter": "python",
   "pygments_lexer": "ipython3",
   "version": "3.10.10"
  },
  "orig_nbformat": 4
 },
 "nbformat": 4,
 "nbformat_minor": 2
}
