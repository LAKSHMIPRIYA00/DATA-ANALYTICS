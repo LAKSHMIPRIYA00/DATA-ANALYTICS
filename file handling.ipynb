{
 "cells": [
  {
   "cell_type": "code",
   "execution_count": 1,
   "metadata": {},
   "outputs": [],
   "source": [
    "#file handling\n",
    "#-open \n",
    "#-read\n",
    "#-write\n",
    "#-append\n",
    "#-close ki jagah hum with function use krege"
   ]
  },
  {
   "cell_type": "code",
   "execution_count": 2,
   "metadata": {},
   "outputs": [
    {
     "data": {
      "text/plain": [
       "<_io.TextIOWrapper name='t1.py' mode='r' encoding='UTF-8'>"
      ]
     },
     "execution_count": 2,
     "metadata": {},
     "output_type": "execute_result"
    }
   ],
   "source": [
    "open('t1.py')#open and load into memory"
   ]
  },
  {
   "cell_type": "code",
   "execution_count": 4,
   "metadata": {},
   "outputs": [
    {
     "data": {
      "text/plain": [
       "\"from turtle import *\\n\\nspeed('normal')\\npencolor('red')\\n#range(stop)\\n#range(start,stop)\\n#range(start,stop,step)\\n\\nfor i in range(6,40,5):\\n    fd(120)\\n    lt(360/10)\\n    dot(20,'blue')\\n    write(i,font=('Calibri',20,'bold'))\\n#reverse\\ngoto(100,100)\\nfor i in range(10,0,-1):\\n    fd(60)\\n    lt(360/10)\\n    dot(20,'red')\\n    write(i,font=('Calibiri',20,'bold'))\\n\\n\\n\\nmainloop()\""
      ]
     },
     "execution_count": 4,
     "metadata": {},
     "output_type": "execute_result"
    }
   ],
   "source": [
    "open('t1.py').read()"
   ]
  },
  {
   "cell_type": "code",
   "execution_count": 6,
   "metadata": {},
   "outputs": [
    {
     "name": "stdout",
     "output_type": "stream",
     "text": [
      "from turtle import *\n",
      "\n",
      "speed('normal')\n",
      "pencolor('red')\n",
      "#range(stop)\n",
      "#range(start,stop)\n",
      "#range(start,stop,step)\n",
      "\n",
      "for i in range(6,40,5):\n",
      "    fd(120)\n",
      "    lt(360/10)\n",
      "    dot(20,'blue')\n",
      "    write(i,font=('Calibri',20,'bold'))\n",
      "#reverse\n",
      "goto(100,100)\n",
      "for i in range(10,0,-1):\n",
      "    fd(60)\n",
      "    lt(360/10)\n",
      "    dot(20,'red')\n",
      "    write(i,font=('Calibiri',20,'bold'))\n",
      "\n",
      "\n",
      "\n",
      "mainloop()\n"
     ]
    }
   ],
   "source": [
    "#reading a file using with statement\n",
    "with open('t1.py')as file:\n",
    "    content = file.read()\n",
    "print(content)    "
   ]
  },
  {
   "cell_type": "code",
   "execution_count": 7,
   "metadata": {},
   "outputs": [
    {
     "name": "stdout",
     "output_type": "stream",
     "text": [
      "from turtle import *\n",
      "\n",
      "speed('normal')\n",
      "pencolor('red')\n",
      "#range(stop)\n",
      "#range(start,stop)\n",
      "#range(start,stop,step)\n",
      "\n",
      "for i in range(6,40,5):\n",
      "    fd(120)\n",
      "    lt(360/10)\n",
      "    dot(20,'blue')\n",
      "    write(i,font=('Calibri',20,'bold'))\n",
      "#reverse\n",
      "goto(100,100)\n",
      "for i in range(10,0,-1):\n",
      "    fd(60)\n",
      "    lt(360/10)\n",
      "    dot(20,'red')\n",
      "    write(i,font=('Calibiri',20,'bold'))\n",
      "\n",
      "\n",
      "\n",
      "mainloop()\n"
     ]
    }
   ],
   "source": [
    "# ignore krne ke liye error=ignore likhna hoga , or encoding btaa krr or shi se bta skte h \n",
    "with open('t1.py',encoding='utf-8',errors='ignore')as file:  \n",
    "    content = file.read()\n",
    "print(content)"
   ]
  },
  {
   "cell_type": "code",
   "execution_count": 13,
   "metadata": {},
   "outputs": [
    {
     "name": "stdout",
     "output_type": "stream",
     "text": [
      "104418 weired characters found\n"
     ]
    }
   ],
   "source": [
    "path = r'C:\\Users\\Rinis\\Pictures\\Camera Roll\\WhatsApp Image 2023-02-17 at 16.54.01.jpg'\n",
    "#open the file in read binary mode\n",
    "with open(path,'rb')as file:\n",
    "    bytes = file.read()\n",
    "print(len(bytes),'weired characters found')  "
   ]
  },
  {
   "cell_type": "code",
   "execution_count": 10,
   "metadata": {},
   "outputs": [
    {
     "name": "stdout",
     "output_type": "stream",
     "text": [
      "✅File created successfully\n"
     ]
    }
   ],
   "source": [
    "# creating a text file\n",
    "data='Life Befor Death\\nStrength Before Weakness\\nJorney Before Destination'\n",
    "# 'w' is the write mode\n",
    "with open('oaths.txt','w')as f:\n",
    "    f.write(data)\n",
    "    print('✅File created successfully')"
   ]
  },
  {
   "cell_type": "code",
   "execution_count": 15,
   "metadata": {},
   "outputs": [
    {
     "name": "stdout",
     "output_type": "stream",
     "text": [
      "✅ kahani khatam\n"
     ]
    }
   ],
   "source": [
    "with open('kahani.txt','w')as file:\n",
    "    while True:\n",
    "        line=input('>>>')\n",
    "        if not line:\n",
    "            break\n",
    "        file.writelines(line + '\\n') # agr \\n use nhi krege to aik line me puri kahani aayegi\n",
    "    print('✅ kahani khatam')    "
   ]
  },
  {
   "cell_type": "code",
   "execution_count": 18,
   "metadata": {},
   "outputs": [
    {
     "name": "stdout",
     "output_type": "stream",
     "text": [
      "File updated successfully\n"
     ]
    }
   ],
   "source": [
    "#adding content to exoxting file\n",
    "with open('oaths.txt','a')as file:\n",
    "    file.write('\\nThe first ideal of knigth Radiant\\n')\n",
    "    file.write('\\ from the book : The way of kings\\n')\n",
    "    print('File updated successfully')"
   ]
  },
  {
   "cell_type": "markdown",
   "metadata": {},
   "source": [
    "# os library"
   ]
  },
  {
   "cell_type": "code",
   "execution_count": 19,
   "metadata": {},
   "outputs": [],
   "source": [
    "import os"
   ]
  },
  {
   "cell_type": "code",
   "execution_count": 20,
   "metadata": {},
   "outputs": [
    {
     "name": "stdout",
     "output_type": "stream",
     "text": [
      "the current path is:\n",
      "f:\\DATA ANALYTICS\n"
     ]
    }
   ],
   "source": [
    "print(\"the current path is:\")\n",
    "print(os.getcwd())"
   ]
  },
  {
   "cell_type": "code",
   "execution_count": 21,
   "metadata": {},
   "outputs": [
    {
     "name": "stdout",
     "output_type": "stream",
     "text": [
      "all the content in current directory:\n"
     ]
    },
    {
     "data": {
      "text/plain": [
       "['.git',\n",
       " 'basics.ipynb',\n",
       " 'condition.ipynb',\n",
       " 'distionary.ipynb',\n",
       " 'file handling.ipynb',\n",
       " 'hellow.py',\n",
       " 'kahani.txt',\n",
       " 'list.ipynb',\n",
       " 'loops.ipynb',\n",
       " 'oaths.txt',\n",
       " 'open.txt',\n",
       " 'Strings.ipynb',\n",
       " 't1.py',\n",
       " 't2.py',\n",
       " 't3.py',\n",
       " 't4.py',\n",
       " 'tuple.ipynb']"
      ]
     },
     "execution_count": 21,
     "metadata": {},
     "output_type": "execute_result"
    }
   ],
   "source": [
    "print('all the content in current directory:')\n",
    "os.listdir()"
   ]
  },
  {
   "cell_type": "code",
   "execution_count": 24,
   "metadata": {},
   "outputs": [
    {
     "name": "stdout",
     "output_type": "stream",
     "text": [
      "all the content of some other location\n"
     ]
    },
    {
     "data": {
      "text/plain": [
       "['addins',\n",
       " 'appcompat',\n",
       " 'apppatch',\n",
       " 'AppReadiness',\n",
       " 'AsCDProc.log',\n",
       " 'AsCom_AV_McAfee_1Y_Ver.txt',\n",
       " 'AsDCDVer.txt',\n",
       " 'AsEDNVer.txt',\n",
       " 'AsHDIVer.txt',\n",
       " 'AsKitVer.txt',\n",
       " 'AsOFSVer.txt',\n",
       " 'AsPEToolVer.txt',\n",
       " 'AsProcKitVer.txt',\n",
       " 'assembly',\n",
       " 'AsToolCDVer.txt',\n",
       " 'ASUS',\n",
       " 'bcastdvr',\n",
       " 'bfsvc.exe',\n",
       " 'Boot',\n",
       " 'bootstat.dat',\n",
       " 'Branding',\n",
       " 'BrowserCore',\n",
       " 'CbsTemp',\n",
       " 'comsetup.log',\n",
       " 'Containers',\n",
       " 'Core.xml',\n",
       " 'CoreSingleLanguage.xml',\n",
       " 'csup.txt',\n",
       " 'Cursors',\n",
       " 'debug',\n",
       " 'diagerr.xml',\n",
       " 'diagnostics',\n",
       " 'DiagTrack',\n",
       " 'diagwrn.xml',\n",
       " 'DigitalLocker',\n",
       " 'Downloaded Program Files',\n",
       " 'DtcInstall.log',\n",
       " 'ELAMBKUP',\n",
       " 'en-GB',\n",
       " 'en-US',\n",
       " 'explorer.exe',\n",
       " 'Fonts',\n",
       " 'GameBarPresenceWriter',\n",
       " 'Globalization',\n",
       " 'Help',\n",
       " 'HelpPane.exe',\n",
       " 'hh.exe',\n",
       " 'IdentityCRL',\n",
       " 'IME',\n",
       " 'ImmersiveControlPanel',\n",
       " 'INF',\n",
       " 'InputMethod',\n",
       " 'Inst.log',\n",
       " 'Installer',\n",
       " 'Inst_AsModelCopy.log',\n",
       " 'Inst_CMD.log',\n",
       " 'Inst_Device.log',\n",
       " 'L2Schemas',\n",
       " 'LanguageOverlayCache',\n",
       " 'LiveKernelReports',\n",
       " 'Log',\n",
       " 'Logs',\n",
       " 'Media',\n",
       " 'mib.bin',\n",
       " 'Microsoft.NET',\n",
       " 'Migration',\n",
       " 'ModemLogs',\n",
       " 'notepad.exe',\n",
       " 'OCR',\n",
       " 'OEM',\n",
       " 'Offline Web Pages',\n",
       " 'Panther',\n",
       " 'Performance',\n",
       " 'PFRO.log',\n",
       " 'PLA',\n",
       " 'PolicyDefinitions',\n",
       " 'Prefetch',\n",
       " 'PrintDialog',\n",
       " 'Provisioning',\n",
       " 'py.exe',\n",
       " 'pyshellext.amd64.dll',\n",
       " 'pyw.exe',\n",
       " 'regedit.exe',\n",
       " 'Registration',\n",
       " 'rescache',\n",
       " 'Resources',\n",
       " 'SchCache',\n",
       " 'schemas',\n",
       " 'security',\n",
       " 'ServiceProfiles',\n",
       " 'ServiceState',\n",
       " 'servicing',\n",
       " 'Setup',\n",
       " 'setupact.log',\n",
       " 'setuperr.log',\n",
       " 'ShellComponents',\n",
       " 'ShellExperiences',\n",
       " 'SKB',\n",
       " 'SoftwareDistribution',\n",
       " 'Speech',\n",
       " 'Speech_OneCore',\n",
       " 'splwow64.exe',\n",
       " 'System',\n",
       " 'system.ini',\n",
       " 'System32',\n",
       " 'SystemApps',\n",
       " 'SystemResources',\n",
       " 'SystemTemp',\n",
       " 'SysWOW64',\n",
       " 'TAPI',\n",
       " 'Tasks',\n",
       " 'Temp',\n",
       " 'tracing',\n",
       " 'twain_32',\n",
       " 'twain_32.dll',\n",
       " 'UUS',\n",
       " 'Vss',\n",
       " 'WaaS',\n",
       " 'Web',\n",
       " 'win.ini',\n",
       " 'WindowsShell.Manifest',\n",
       " 'WindowsUpdate.log',\n",
       " 'winhlp32.exe',\n",
       " 'WinSxS',\n",
       " 'WMSysPr9.prx',\n",
       " 'write.exe',\n",
       " 'WUModels']"
      ]
     },
     "execution_count": 24,
     "metadata": {},
     "output_type": "execute_result"
    }
   ],
   "source": [
    "print('all the content of some other location')\n",
    "path ='C:/Windows/'\n",
    "os.listdir(path)"
   ]
  },
  {
   "cell_type": "code",
   "execution_count": 27,
   "metadata": {},
   "outputs": [
    {
     "name": "stdout",
     "output_type": "stream",
     "text": [
      "all the content of some other location\n"
     ]
    },
    {
     "data": {
      "text/plain": [
       "['aadhar1.pdf',\n",
       " 'Anaconda3-2021.05-Windows-x86_64.exe',\n",
       " 'ChromeSetup.exe',\n",
       " 'desktop.ini',\n",
       " 'ews.pdf',\n",
       " 'Git-2.12.2.2-64-bit.exe',\n",
       " 'IBM_Cloud_CLI_2.11.1_amd64.exe',\n",
       " 'ideaIC-2022.3.2.exe',\n",
       " 'IMG_20230429_105444 (1).jpg',\n",
       " 'IMG_20230429_105444.jpg',\n",
       " 'IMG_20230429_105456 (1).jpg',\n",
       " 'IMG_20230429_105456.jpg',\n",
       " 'JavaCodingPack-0.4.1.exe',\n",
       " 'jdk-19_windows-x64_bin.exe',\n",
       " 'Lakshmi report .pdf',\n",
       " 'Lakshmi_Priya_2897335.pdf',\n",
       " 'node-v12.18.3-x64.msi',\n",
       " 'photo.jpg',\n",
       " 'ReportDownload.pdf',\n",
       " 'Sahil_Prajapati_2825166.pdf',\n",
       " 'sign.jpg',\n",
       " 'Smriti Priya (1).docx',\n",
       " 'Smriti Priya (2).docx',\n",
       " 'Smriti Priya (2).pdf',\n",
       " 'Smriti Priya (3).docx',\n",
       " 'Smriti Priya (4).docx',\n",
       " 'Smriti Priya.docx',\n",
       " 'Smriti Priya.pdf',\n",
       " 'TypingMaster11.exe',\n",
       " 'wsl_update_x64.msi']"
      ]
     },
     "execution_count": 27,
     "metadata": {},
     "output_type": "execute_result"
    }
   ],
   "source": [
    "print('all the content of some other location')\n",
    "path ='C:/Users/Rinis/Downloads'\n",
    "os.listdir(path)"
   ]
  },
  {
   "cell_type": "code",
   "execution_count": 26,
   "metadata": {},
   "outputs": [
    {
     "name": "stdout",
     "output_type": "stream",
     "text": [
      "C:/Users/Rinis/Pictures/Camera Roll\\desktop.ini\n",
      "C:/Users/Rinis/Pictures/Camera Roll\\WhatsApp Image 2023-02-17 at 16.54.01.jpg\n",
      "C:/Users/Rinis/Pictures/Camera Roll\\WIN_20211106_19_55_38_Pro.jpg\n",
      "C:/Users/Rinis/Pictures/Camera Roll\\WIN_20211106_19_55_51_Pro.jpg\n",
      "C:/Users/Rinis/Pictures/Camera Roll\\WIN_20211106_19_56_16_Pro.jpg\n",
      "C:/Users/Rinis/Pictures/Saved Pictures\\desktop.ini\n",
      "C:/Users/Rinis/Pictures/Screenshots\\20230221_105045AMByGPSMapCamera.jpg\n",
      "C:/Users/Rinis/Pictures/Screenshots\\20230221_123151pmByGPSMapCamera.jpg\n",
      "C:/Users/Rinis/Pictures/Screenshots\\20230222_115250AMByGPSMapCamera.jpg\n",
      "C:/Users/Rinis/Pictures/Screenshots\\20230222_123317pmByGPSMapCamera.jpg\n",
      "C:/Users/Rinis/Pictures/Screenshots\\8f8aee1e-54c2-43b3-a0f6-57f0b895334d.jpg\n",
      "C:/Users/Rinis/Pictures/Screenshots\\91a70643-f99d-4057-b1b3-74d038488f33.jpg\n",
      "C:/Users/Rinis/Pictures/Screenshots\\BCC logo.png\n",
      "C:/Users/Rinis/Pictures/Screenshots\\desktop.ini\n",
      "C:/Users/Rinis/Pictures/Screenshots\\fb20529b-0ff2-41c5-9af5-b47467f9f282.jpg\n",
      "C:/Users/Rinis/Pictures/Screenshots\\Screenshot 2023-05-09 230156.png\n",
      "C:/Users/Rinis/Pictures/Screenshots\\Screenshot 2023-05-09 230708.png\n",
      "C:/Users/Rinis/Pictures/Screenshots\\Screenshot 2023-05-09 231009.png\n",
      "C:/Users/Rinis/Pictures/Screenshots\\Screenshot 2023-07-14 140450.png\n",
      "C:/Users/Rinis/Pictures/desktop.ini\n",
      "C:/Users/Rinis/Pictures/Camera Roll\n",
      "C:/Users/Rinis/Pictures/Saved Pictures\n",
      "C:/Users/Rinis/Pictures/Screenshots\n"
     ]
    }
   ],
   "source": [
    "#recursive files and folder\n",
    "for root,dirs,files in os.walk(\"C:/Users/Rinis/Pictures/\",topdown=False):\n",
    "    for name in files:\n",
    "        print(os.path.join(root,name))\n",
    "    for name in dirs:\n",
    "        print(os.path.join(root,name))    "
   ]
  },
  {
   "cell_type": "code",
   "execution_count": null,
   "metadata": {},
   "outputs": [],
   "source": []
  }
 ],
 "metadata": {
  "kernelspec": {
   "display_name": "base",
   "language": "python",
   "name": "python3"
  },
  "language_info": {
   "codemirror_mode": {
    "name": "ipython",
    "version": 3
   },
   "file_extension": ".py",
   "mimetype": "text/x-python",
   "name": "python",
   "nbconvert_exporter": "python",
   "pygments_lexer": "ipython3",
   "version": "3.10.10"
  },
  "orig_nbformat": 4
 },
 "nbformat": 4,
 "nbformat_minor": 2
}
